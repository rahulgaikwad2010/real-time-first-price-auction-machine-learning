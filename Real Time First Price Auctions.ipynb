{
 "cells": [
  {
   "cell_type": "markdown",
   "metadata": {
    "papermill": {
     "duration": 0.071728,
     "end_time": "2020-11-29T14:19:01.609395",
     "exception": false,
     "start_time": "2020-11-29T14:19:01.537667",
     "status": "completed"
    },
    "tags": []
   },
   "source": [
    "<center><h1>Real Time First Price Auctions</h1></center>"
   ]
  },
  {
   "cell_type": "markdown",
   "metadata": {
    "papermill": {
     "duration": 0.069336,
     "end_time": "2020-11-29T14:19:01.752716",
     "exception": false,
     "start_time": "2020-11-29T14:19:01.683380",
     "status": "completed"
    },
    "tags": []
   },
   "source": [
    "<B>Name -</B> Rahul Gaikwad\n",
    "\n",
    "<B>Position -</B> Data Scientist\n",
    "\n",
    "<B>Interview Round -</B> 2 - Modelling Exercise\n",
    "\n",
    "<B>Email Id -</B> rahul.gaikwad2010@gmail.com\n",
    "\n",
    "<B>Mobile No. -</B> +91 9326117192\n",
    "\n",
    "<hr/>\n",
    "\n",
    "### Introduction\n",
    "\n",
    "60% of the digital ad inventory is sold by publishers in **Real-Time first price Auctions.** Once a user lands on a webpage, bidders (advertisers) bid for different ad slots on the page, and the one with the highest winning bid displays their ad in the ad space and pays the amount he bid. This process encourages bid shading – bidding lesser than the perceived value of the ad space to maximize utilization for self while maintaining a particular win rate at the lowest prices. \n",
    "\n",
    "Hence, for publishers, it becomes important to value their inventory (all the users that visit their website * all the ad slots they have on their websites) correctly so that a reserve price or a minimum price can be set up for the auctions. The minimum price\n",
    "\n",
    "<hr/>\n",
    "\n",
    "### Problem Statement\n",
    "\n",
    "In a first-price auction, the highest bidder wins and pays the price they bid if it exceeds the reserve price. The optimal strategy of a bidder is to shade their bids (bid less than their true value of the inventory). However, the bidder needs to win a certain amount to achieve their goals. This \n",
    "suggests they need to shade as much as possible while maintaining a certain win rate.\n",
    "\n",
    "A bidder perceives a certain value out of every impression they win. Each bidder would like to \n",
    "maintain the value they derived out of this set of websites (given in the dataset) in June with a \n",
    "the maximum deviation of 20%. \n",
    "\n",
    "Setting a reserve price induces this by causing bidders to lose at lower bids which encourages higher bidding and more publisher revenue. However, since most of these take place through \n",
    "automated systems, there might be an unknown delay in setting reserve prices & reducing the win rate of bidder & bidder changing their bid shading algorithm & increased publisher revenue.\n",
    "\n",
    "<hr/>\n",
    "\n",
    "### Questions\n",
    "1. What are the reserve prices that he/she can set? \n",
    "2. What is the potential revenue range our publisher can make in July? (Changelog - consider is_weekend column for question 1.)\n",
    "\n",
    "<hr/>"
   ]
  },
  {
   "cell_type": "markdown",
   "metadata": {
    "papermill": {
     "duration": 0.070525,
     "end_time": "2020-11-29T14:19:01.895150",
     "exception": false,
     "start_time": "2020-11-29T14:19:01.824625",
     "status": "completed"
    },
    "tags": []
   },
   "source": [
    "# 1. Setting the stage\n",
    "\n",
    "1. Import necessary libraries\n",
    "2. Load dataset\n",
    "3. Data Preprocessing\n",
    "<hr/>"
   ]
  },
  {
   "cell_type": "markdown",
   "metadata": {
    "papermill": {
     "duration": 0.072349,
     "end_time": "2020-11-29T14:19:02.038199",
     "exception": false,
     "start_time": "2020-11-29T14:19:01.965850",
     "status": "completed"
    },
    "tags": []
   },
   "source": [
    "### 1.1 Import necessary libraries"
   ]
  },
  {
   "cell_type": "code",
   "execution_count": 1,
   "metadata": {
    "execution": {
     "iopub.execute_input": "2020-11-29T14:19:02.199194Z",
     "iopub.status.busy": "2020-11-29T14:19:02.187930Z",
     "iopub.status.idle": "2020-11-29T14:19:03.809546Z",
     "shell.execute_reply": "2020-11-29T14:19:03.808898Z"
    },
    "papermill": {
     "duration": 1.701484,
     "end_time": "2020-11-29T14:19:03.809696",
     "exception": false,
     "start_time": "2020-11-29T14:19:02.108212",
     "status": "completed"
    },
    "tags": []
   },
   "outputs": [],
   "source": [
    "# Data representation and computation\n",
    "import pandas as pd  \n",
    "import numpy as np  \n",
    "pd.options.display.float_format = '{:20,.4f}'.format\n",
    "\n",
    "# Graph plotting\n",
    "import matplotlib.pyplot as plt  \n",
    "import seaborn as sns\n",
    "\n",
    "# Data splitting, feature engg., and pipeline to train machine learning models\n",
    "from sklearn.preprocessing import StandardScaler\n",
    "from sklearn.metrics import cluster, silhouette_score, v_measure_score, adjusted_rand_score, completeness_score\n",
    "\n",
    "# Machine learning models\n",
    "from sklearn.cluster import KMeans\n",
    "from sklearn.cluster import DBSCAN\n",
    "\n",
    "# Miscellaneous\n",
    "import warnings\n",
    "from math import log, e, ceil\n",
    "from scipy.stats import entropy\n",
    "from prettytable import PrettyTable\n",
    "\n",
    "# Declaration\n",
    "warnings.filterwarnings('ignore')\n",
    "%precision 2\n",
    "%matplotlib inline\n",
    "sns.set(font_scale=1)"
   ]
  },
  {
   "cell_type": "markdown",
   "metadata": {
    "papermill": {
     "duration": 0.070702,
     "end_time": "2020-11-29T14:19:03.951035",
     "exception": false,
     "start_time": "2020-11-29T14:19:03.880333",
     "status": "completed"
    },
    "tags": []
   },
   "source": [
    "<br><hr/>"
   ]
  },
  {
   "cell_type": "markdown",
   "metadata": {
    "papermill": {
     "duration": 0.069697,
     "end_time": "2020-11-29T14:19:04.093356",
     "exception": false,
     "start_time": "2020-11-29T14:19:04.023659",
     "status": "completed"
    },
    "tags": []
   },
   "source": [
    "### 1.2 Load Data"
   ]
  },
  {
   "cell_type": "code",
   "execution_count": 2,
   "metadata": {
    "execution": {
     "iopub.execute_input": "2020-11-29T14:19:04.250493Z",
     "iopub.status.busy": "2020-11-29T14:19:04.249681Z",
     "iopub.status.idle": "2020-11-29T14:19:21.196910Z",
     "shell.execute_reply": "2020-11-29T14:19:21.196244Z"
    },
    "papermill": {
     "duration": 17.033459,
     "end_time": "2020-11-29T14:19:21.197066",
     "exception": false,
     "start_time": "2020-11-29T14:19:04.163607",
     "status": "completed"
    },
    "tags": []
   },
   "outputs": [
    {
     "data": {
      "text/html": [
       "<div>\n",
       "<style scoped>\n",
       "    .dataframe tbody tr th:only-of-type {\n",
       "        vertical-align: middle;\n",
       "    }\n",
       "\n",
       "    .dataframe tbody tr th {\n",
       "        vertical-align: top;\n",
       "    }\n",
       "\n",
       "    .dataframe thead th {\n",
       "        text-align: right;\n",
       "    }\n",
       "</style>\n",
       "<table border=\"1\" class=\"dataframe\">\n",
       "  <thead>\n",
       "    <tr style=\"text-align: right;\">\n",
       "      <th></th>\n",
       "      <th>date</th>\n",
       "      <th>site_id</th>\n",
       "      <th>ad_type_id</th>\n",
       "      <th>geo_id</th>\n",
       "      <th>device_category_id</th>\n",
       "      <th>advertiser_id</th>\n",
       "      <th>order_id</th>\n",
       "      <th>line_item_type_id</th>\n",
       "      <th>os_id</th>\n",
       "      <th>integration_type_id</th>\n",
       "      <th>monetization_channel_id</th>\n",
       "      <th>ad_unit_id</th>\n",
       "      <th>total_impressions</th>\n",
       "      <th>total_revenue</th>\n",
       "      <th>viewable_impressions</th>\n",
       "      <th>measurable_impressions</th>\n",
       "      <th>revenue_share_percent</th>\n",
       "    </tr>\n",
       "  </thead>\n",
       "  <tbody>\n",
       "    <tr>\n",
       "      <th>0</th>\n",
       "      <td>2019-06-30</td>\n",
       "      <td>351</td>\n",
       "      <td>10</td>\n",
       "      <td>187</td>\n",
       "      <td>2</td>\n",
       "      <td>84</td>\n",
       "      <td>3473</td>\n",
       "      <td>19</td>\n",
       "      <td>60</td>\n",
       "      <td>1</td>\n",
       "      <td>4</td>\n",
       "      <td>5174</td>\n",
       "      <td>16</td>\n",
       "      <td>0.0000</td>\n",
       "      <td>2</td>\n",
       "      <td>16</td>\n",
       "      <td>1</td>\n",
       "    </tr>\n",
       "    <tr>\n",
       "      <th>1</th>\n",
       "      <td>2019-06-30</td>\n",
       "      <td>351</td>\n",
       "      <td>10</td>\n",
       "      <td>187</td>\n",
       "      <td>2</td>\n",
       "      <td>84</td>\n",
       "      <td>3473</td>\n",
       "      <td>19</td>\n",
       "      <td>58</td>\n",
       "      <td>1</td>\n",
       "      <td>4</td>\n",
       "      <td>5174</td>\n",
       "      <td>6</td>\n",
       "      <td>0.0000</td>\n",
       "      <td>0</td>\n",
       "      <td>6</td>\n",
       "      <td>1</td>\n",
       "    </tr>\n",
       "    <tr>\n",
       "      <th>2</th>\n",
       "      <td>2019-06-30</td>\n",
       "      <td>351</td>\n",
       "      <td>10</td>\n",
       "      <td>147</td>\n",
       "      <td>2</td>\n",
       "      <td>84</td>\n",
       "      <td>3473</td>\n",
       "      <td>19</td>\n",
       "      <td>60</td>\n",
       "      <td>1</td>\n",
       "      <td>4</td>\n",
       "      <td>5174</td>\n",
       "      <td>4</td>\n",
       "      <td>0.0000</td>\n",
       "      <td>0</td>\n",
       "      <td>4</td>\n",
       "      <td>1</td>\n",
       "    </tr>\n",
       "    <tr>\n",
       "      <th>3</th>\n",
       "      <td>2019-06-30</td>\n",
       "      <td>351</td>\n",
       "      <td>10</td>\n",
       "      <td>147</td>\n",
       "      <td>2</td>\n",
       "      <td>84</td>\n",
       "      <td>3473</td>\n",
       "      <td>19</td>\n",
       "      <td>58</td>\n",
       "      <td>1</td>\n",
       "      <td>4</td>\n",
       "      <td>5174</td>\n",
       "      <td>4</td>\n",
       "      <td>0.0000</td>\n",
       "      <td>0</td>\n",
       "      <td>4</td>\n",
       "      <td>1</td>\n",
       "    </tr>\n",
       "    <tr>\n",
       "      <th>4</th>\n",
       "      <td>2019-06-30</td>\n",
       "      <td>348</td>\n",
       "      <td>10</td>\n",
       "      <td>147</td>\n",
       "      <td>3</td>\n",
       "      <td>79</td>\n",
       "      <td>3463</td>\n",
       "      <td>20</td>\n",
       "      <td>59</td>\n",
       "      <td>1</td>\n",
       "      <td>19</td>\n",
       "      <td>5138</td>\n",
       "      <td>4</td>\n",
       "      <td>0.0000</td>\n",
       "      <td>0</td>\n",
       "      <td>4</td>\n",
       "      <td>1</td>\n",
       "    </tr>\n",
       "  </tbody>\n",
       "</table>\n",
       "</div>"
      ],
      "text/plain": [
       "        date  site_id  ad_type_id  geo_id  device_category_id  advertiser_id  \\\n",
       "0 2019-06-30      351          10     187                   2             84   \n",
       "1 2019-06-30      351          10     187                   2             84   \n",
       "2 2019-06-30      351          10     147                   2             84   \n",
       "3 2019-06-30      351          10     147                   2             84   \n",
       "4 2019-06-30      348          10     147                   3             79   \n",
       "\n",
       "   order_id  line_item_type_id  os_id  integration_type_id  \\\n",
       "0      3473                 19     60                    1   \n",
       "1      3473                 19     58                    1   \n",
       "2      3473                 19     60                    1   \n",
       "3      3473                 19     58                    1   \n",
       "4      3463                 20     59                    1   \n",
       "\n",
       "   monetization_channel_id  ad_unit_id  total_impressions  \\\n",
       "0                        4        5174                 16   \n",
       "1                        4        5174                  6   \n",
       "2                        4        5174                  4   \n",
       "3                        4        5174                  4   \n",
       "4                       19        5138                  4   \n",
       "\n",
       "         total_revenue  viewable_impressions  measurable_impressions  \\\n",
       "0               0.0000                     2                      16   \n",
       "1               0.0000                     0                       6   \n",
       "2               0.0000                     0                       4   \n",
       "3               0.0000                     0                       4   \n",
       "4               0.0000                     0                       4   \n",
       "\n",
       "   revenue_share_percent  \n",
       "0                      1  \n",
       "1                      1  \n",
       "2                      1  \n",
       "3                      1  \n",
       "4                      1  "
      ]
     },
     "execution_count": 2,
     "metadata": {},
     "output_type": "execute_result"
    }
   ],
   "source": [
    "# The data is of a particular month and the number of impressions that happened in that month. \n",
    "# To read the data as a time series, we have to pass special arguments to the read_csv command:\n",
    "dateparse = lambda dates: pd.datetime.strptime(dates, '%Y-%m-%d %H:%M:%S')\n",
    "\n",
    "ldf_ad_data = pd.read_csv('../input/real-time-first-price-auctions/Ascendeum_Dataset2.csv', parse_dates=['date'], date_parser=dateparse)\n",
    "ldf_ad_data.head()"
   ]
  },
  {
   "cell_type": "markdown",
   "metadata": {
    "papermill": {
     "duration": 0.070405,
     "end_time": "2020-11-29T14:19:21.340760",
     "exception": false,
     "start_time": "2020-11-29T14:19:21.270355",
     "status": "completed"
    },
    "tags": []
   },
   "source": [
    "<br><hr/>"
   ]
  },
  {
   "cell_type": "markdown",
   "metadata": {
    "papermill": {
     "duration": 0.070347,
     "end_time": "2020-11-29T14:19:21.481793",
     "exception": false,
     "start_time": "2020-11-29T14:19:21.411446",
     "status": "completed"
    },
    "tags": []
   },
   "source": [
    "### 1.3. Data Preprocessing"
   ]
  },
  {
   "cell_type": "markdown",
   "metadata": {
    "papermill": {
     "duration": 0.070367,
     "end_time": "2020-11-29T14:19:21.622909",
     "exception": false,
     "start_time": "2020-11-29T14:19:21.552542",
     "status": "completed"
    },
    "tags": []
   },
   "source": [
    "> Here we'll quickly describe a dataset; the number of rows/columns, missing data, data types, preview, etc."
   ]
  },
  {
   "cell_type": "code",
   "execution_count": 3,
   "metadata": {
    "execution": {
     "iopub.execute_input": "2020-11-29T14:19:21.774445Z",
     "iopub.status.busy": "2020-11-29T14:19:21.773477Z",
     "iopub.status.idle": "2020-11-29T14:19:21.778301Z",
     "shell.execute_reply": "2020-11-29T14:19:21.777681Z"
    },
    "papermill": {
     "duration": 0.082884,
     "end_time": "2020-11-29T14:19:21.778435",
     "exception": false,
     "start_time": "2020-11-29T14:19:21.695551",
     "status": "completed"
    },
    "tags": []
   },
   "outputs": [
    {
     "data": {
      "text/plain": [
       "(567291, 17)"
      ]
     },
     "execution_count": 3,
     "metadata": {},
     "output_type": "execute_result"
    }
   ],
   "source": [
    "ldf_ad_data.shape"
   ]
  },
  {
   "cell_type": "code",
   "execution_count": 4,
   "metadata": {
    "execution": {
     "iopub.execute_input": "2020-11-29T14:19:21.959798Z",
     "iopub.status.busy": "2020-11-29T14:19:21.959012Z",
     "iopub.status.idle": "2020-11-29T14:19:22.233539Z",
     "shell.execute_reply": "2020-11-29T14:19:22.232740Z"
    },
    "papermill": {
     "duration": 0.383927,
     "end_time": "2020-11-29T14:19:22.233667",
     "exception": false,
     "start_time": "2020-11-29T14:19:21.849740",
     "status": "completed"
    },
    "tags": []
   },
   "outputs": [
    {
     "data": {
      "text/html": [
       "<div>\n",
       "<style scoped>\n",
       "    .dataframe tbody tr th:only-of-type {\n",
       "        vertical-align: middle;\n",
       "    }\n",
       "\n",
       "    .dataframe tbody tr th {\n",
       "        vertical-align: top;\n",
       "    }\n",
       "\n",
       "    .dataframe thead th {\n",
       "        text-align: right;\n",
       "    }\n",
       "</style>\n",
       "<table border=\"1\" class=\"dataframe\">\n",
       "  <thead>\n",
       "    <tr style=\"text-align: right;\">\n",
       "      <th></th>\n",
       "      <th>site_id</th>\n",
       "      <th>ad_type_id</th>\n",
       "      <th>geo_id</th>\n",
       "      <th>device_category_id</th>\n",
       "      <th>advertiser_id</th>\n",
       "      <th>order_id</th>\n",
       "      <th>line_item_type_id</th>\n",
       "      <th>os_id</th>\n",
       "      <th>integration_type_id</th>\n",
       "      <th>monetization_channel_id</th>\n",
       "      <th>ad_unit_id</th>\n",
       "      <th>total_impressions</th>\n",
       "      <th>total_revenue</th>\n",
       "      <th>viewable_impressions</th>\n",
       "      <th>measurable_impressions</th>\n",
       "      <th>revenue_share_percent</th>\n",
       "    </tr>\n",
       "  </thead>\n",
       "  <tbody>\n",
       "    <tr>\n",
       "      <th>count</th>\n",
       "      <td>567,291.0000</td>\n",
       "      <td>567,291.0000</td>\n",
       "      <td>567,291.0000</td>\n",
       "      <td>567,291.0000</td>\n",
       "      <td>567,291.0000</td>\n",
       "      <td>567,291.0000</td>\n",
       "      <td>567,291.0000</td>\n",
       "      <td>567,291.0000</td>\n",
       "      <td>567,291.0000</td>\n",
       "      <td>567,291.0000</td>\n",
       "      <td>567,291.0000</td>\n",
       "      <td>567,291.0000</td>\n",
       "      <td>567,291.0000</td>\n",
       "      <td>567,291.0000</td>\n",
       "      <td>567,291.0000</td>\n",
       "      <td>567,291.0000</td>\n",
       "    </tr>\n",
       "    <tr>\n",
       "      <th>mean</th>\n",
       "      <td>347.1078</td>\n",
       "      <td>10.2206</td>\n",
       "      <td>110.2261</td>\n",
       "      <td>1.8997</td>\n",
       "      <td>262.0843</td>\n",
       "      <td>1,951.2737</td>\n",
       "      <td>12.6321</td>\n",
       "      <td>57.2172</td>\n",
       "      <td>1.0000</td>\n",
       "      <td>14.4337</td>\n",
       "      <td>5,136.4366</td>\n",
       "      <td>33.6737</td>\n",
       "      <td>0.0697</td>\n",
       "      <td>12.8383</td>\n",
       "      <td>32.1528</td>\n",
       "      <td>1.0000</td>\n",
       "    </tr>\n",
       "    <tr>\n",
       "      <th>std</th>\n",
       "      <td>2.9304</td>\n",
       "      <td>1.2229</td>\n",
       "      <td>66.1778</td>\n",
       "      <td>0.7920</td>\n",
       "      <td>627.3255</td>\n",
       "      <td>1,652.5457</td>\n",
       "      <td>6.8126</td>\n",
       "      <td>1.9560</td>\n",
       "      <td>0.0000</td>\n",
       "      <td>7.1359</td>\n",
       "      <td>62.5086</td>\n",
       "      <td>220.8654</td>\n",
       "      <td>0.7136</td>\n",
       "      <td>101.9892</td>\n",
       "      <td>207.0965</td>\n",
       "      <td>0.0000</td>\n",
       "    </tr>\n",
       "    <tr>\n",
       "      <th>min</th>\n",
       "      <td>342.0000</td>\n",
       "      <td>10.0000</td>\n",
       "      <td>1.0000</td>\n",
       "      <td>1.0000</td>\n",
       "      <td>8.0000</td>\n",
       "      <td>45.0000</td>\n",
       "      <td>3.0000</td>\n",
       "      <td>15.0000</td>\n",
       "      <td>1.0000</td>\n",
       "      <td>1.0000</td>\n",
       "      <td>5,050.0000</td>\n",
       "      <td>0.0000</td>\n",
       "      <td>-0.1542</td>\n",
       "      <td>0.0000</td>\n",
       "      <td>0.0000</td>\n",
       "      <td>1.0000</td>\n",
       "    </tr>\n",
       "    <tr>\n",
       "      <th>25%</th>\n",
       "      <td>345.0000</td>\n",
       "      <td>10.0000</td>\n",
       "      <td>39.0000</td>\n",
       "      <td>1.0000</td>\n",
       "      <td>79.0000</td>\n",
       "      <td>45.0000</td>\n",
       "      <td>4.0000</td>\n",
       "      <td>56.0000</td>\n",
       "      <td>1.0000</td>\n",
       "      <td>4.0000</td>\n",
       "      <td>5,099.0000</td>\n",
       "      <td>0.0000</td>\n",
       "      <td>0.0000</td>\n",
       "      <td>0.0000</td>\n",
       "      <td>0.0000</td>\n",
       "      <td>1.0000</td>\n",
       "    </tr>\n",
       "    <tr>\n",
       "      <th>50%</th>\n",
       "      <td>346.0000</td>\n",
       "      <td>10.0000</td>\n",
       "      <td>122.0000</td>\n",
       "      <td>2.0000</td>\n",
       "      <td>88.0000</td>\n",
       "      <td>3,438.0000</td>\n",
       "      <td>11.0000</td>\n",
       "      <td>57.0000</td>\n",
       "      <td>1.0000</td>\n",
       "      <td>19.0000</td>\n",
       "      <td>5,127.0000</td>\n",
       "      <td>2.0000</td>\n",
       "      <td>0.0000</td>\n",
       "      <td>0.0000</td>\n",
       "      <td>2.0000</td>\n",
       "      <td>1.0000</td>\n",
       "    </tr>\n",
       "    <tr>\n",
       "      <th>75%</th>\n",
       "      <td>350.0000</td>\n",
       "      <td>10.0000</td>\n",
       "      <td>183.0000</td>\n",
       "      <td>3.0000</td>\n",
       "      <td>139.0000</td>\n",
       "      <td>3,460.0000</td>\n",
       "      <td>19.0000</td>\n",
       "      <td>58.0000</td>\n",
       "      <td>1.0000</td>\n",
       "      <td>19.0000</td>\n",
       "      <td>5,168.0000</td>\n",
       "      <td>6.0000</td>\n",
       "      <td>0.0054</td>\n",
       "      <td>2.0000</td>\n",
       "      <td>6.0000</td>\n",
       "      <td>1.0000</td>\n",
       "    </tr>\n",
       "    <tr>\n",
       "      <th>max</th>\n",
       "      <td>351.0000</td>\n",
       "      <td>17.0000</td>\n",
       "      <td>308.0000</td>\n",
       "      <td>5.0000</td>\n",
       "      <td>2,646.0000</td>\n",
       "      <td>3,489.0000</td>\n",
       "      <td>20.0000</td>\n",
       "      <td>60.0000</td>\n",
       "      <td>1.0000</td>\n",
       "      <td>21.0000</td>\n",
       "      <td>5,443.0000</td>\n",
       "      <td>14,452.0000</td>\n",
       "      <td>83.8220</td>\n",
       "      <td>7,392.0000</td>\n",
       "      <td>13,756.0000</td>\n",
       "      <td>1.0000</td>\n",
       "    </tr>\n",
       "  </tbody>\n",
       "</table>\n",
       "</div>"
      ],
      "text/plain": [
       "                   site_id           ad_type_id               geo_id  \\\n",
       "count         567,291.0000         567,291.0000         567,291.0000   \n",
       "mean              347.1078              10.2206             110.2261   \n",
       "std                 2.9304               1.2229              66.1778   \n",
       "min               342.0000              10.0000               1.0000   \n",
       "25%               345.0000              10.0000              39.0000   \n",
       "50%               346.0000              10.0000             122.0000   \n",
       "75%               350.0000              10.0000             183.0000   \n",
       "max               351.0000              17.0000             308.0000   \n",
       "\n",
       "        device_category_id        advertiser_id             order_id  \\\n",
       "count         567,291.0000         567,291.0000         567,291.0000   \n",
       "mean                1.8997             262.0843           1,951.2737   \n",
       "std                 0.7920             627.3255           1,652.5457   \n",
       "min                 1.0000               8.0000              45.0000   \n",
       "25%                 1.0000              79.0000              45.0000   \n",
       "50%                 2.0000              88.0000           3,438.0000   \n",
       "75%                 3.0000             139.0000           3,460.0000   \n",
       "max                 5.0000           2,646.0000           3,489.0000   \n",
       "\n",
       "         line_item_type_id                os_id  integration_type_id  \\\n",
       "count         567,291.0000         567,291.0000         567,291.0000   \n",
       "mean               12.6321              57.2172               1.0000   \n",
       "std                 6.8126               1.9560               0.0000   \n",
       "min                 3.0000              15.0000               1.0000   \n",
       "25%                 4.0000              56.0000               1.0000   \n",
       "50%                11.0000              57.0000               1.0000   \n",
       "75%                19.0000              58.0000               1.0000   \n",
       "max                20.0000              60.0000               1.0000   \n",
       "\n",
       "       monetization_channel_id           ad_unit_id    total_impressions  \\\n",
       "count             567,291.0000         567,291.0000         567,291.0000   \n",
       "mean                   14.4337           5,136.4366              33.6737   \n",
       "std                     7.1359              62.5086             220.8654   \n",
       "min                     1.0000           5,050.0000               0.0000   \n",
       "25%                     4.0000           5,099.0000               0.0000   \n",
       "50%                    19.0000           5,127.0000               2.0000   \n",
       "75%                    19.0000           5,168.0000               6.0000   \n",
       "max                    21.0000           5,443.0000          14,452.0000   \n",
       "\n",
       "             total_revenue  viewable_impressions  measurable_impressions  \\\n",
       "count         567,291.0000          567,291.0000            567,291.0000   \n",
       "mean                0.0697               12.8383                 32.1528   \n",
       "std                 0.7136              101.9892                207.0965   \n",
       "min                -0.1542                0.0000                  0.0000   \n",
       "25%                 0.0000                0.0000                  0.0000   \n",
       "50%                 0.0000                0.0000                  2.0000   \n",
       "75%                 0.0054                2.0000                  6.0000   \n",
       "max                83.8220            7,392.0000             13,756.0000   \n",
       "\n",
       "       revenue_share_percent  \n",
       "count           567,291.0000  \n",
       "mean                  1.0000  \n",
       "std                   0.0000  \n",
       "min                   1.0000  \n",
       "25%                   1.0000  \n",
       "50%                   1.0000  \n",
       "75%                   1.0000  \n",
       "max                   1.0000  "
      ]
     },
     "execution_count": 4,
     "metadata": {},
     "output_type": "execute_result"
    }
   ],
   "source": [
    "ldf_ad_data.describe()"
   ]
  },
  {
   "cell_type": "code",
   "execution_count": 5,
   "metadata": {
    "execution": {
     "iopub.execute_input": "2020-11-29T14:19:22.388950Z",
     "iopub.status.busy": "2020-11-29T14:19:22.388129Z",
     "iopub.status.idle": "2020-11-29T14:19:22.427418Z",
     "shell.execute_reply": "2020-11-29T14:19:22.426581Z"
    },
    "papermill": {
     "duration": 0.119177,
     "end_time": "2020-11-29T14:19:22.427553",
     "exception": false,
     "start_time": "2020-11-29T14:19:22.308376",
     "status": "completed"
    },
    "tags": []
   },
   "outputs": [
    {
     "name": "stdout",
     "output_type": "stream",
     "text": [
      "<class 'pandas.core.frame.DataFrame'>\n",
      "RangeIndex: 567291 entries, 0 to 567290\n",
      "Data columns (total 17 columns):\n",
      " #   Column                   Non-Null Count   Dtype         \n",
      "---  ------                   --------------   -----         \n",
      " 0   date                     567291 non-null  datetime64[ns]\n",
      " 1   site_id                  567291 non-null  int64         \n",
      " 2   ad_type_id               567291 non-null  int64         \n",
      " 3   geo_id                   567291 non-null  int64         \n",
      " 4   device_category_id       567291 non-null  int64         \n",
      " 5   advertiser_id            567291 non-null  int64         \n",
      " 6   order_id                 567291 non-null  int64         \n",
      " 7   line_item_type_id        567291 non-null  int64         \n",
      " 8   os_id                    567291 non-null  int64         \n",
      " 9   integration_type_id      567291 non-null  int64         \n",
      " 10  monetization_channel_id  567291 non-null  int64         \n",
      " 11  ad_unit_id               567291 non-null  int64         \n",
      " 12  total_impressions        567291 non-null  int64         \n",
      " 13  total_revenue            567291 non-null  float64       \n",
      " 14  viewable_impressions     567291 non-null  int64         \n",
      " 15  measurable_impressions   567291 non-null  int64         \n",
      " 16  revenue_share_percent    567291 non-null  int64         \n",
      "dtypes: datetime64[ns](1), float64(1), int64(15)\n",
      "memory usage: 73.6 MB\n"
     ]
    }
   ],
   "source": [
    "ldf_ad_data.info()"
   ]
  },
  {
   "cell_type": "code",
   "execution_count": 6,
   "metadata": {
    "execution": {
     "iopub.execute_input": "2020-11-29T14:19:22.588397Z",
     "iopub.status.busy": "2020-11-29T14:19:22.587509Z",
     "iopub.status.idle": "2020-11-29T14:19:22.614659Z",
     "shell.execute_reply": "2020-11-29T14:19:22.615243Z"
    },
    "papermill": {
     "duration": 0.109061,
     "end_time": "2020-11-29T14:19:22.615412",
     "exception": false,
     "start_time": "2020-11-29T14:19:22.506351",
     "status": "completed"
    },
    "tags": []
   },
   "outputs": [
    {
     "data": {
      "text/plain": [
       "date                       0\n",
       "site_id                    0\n",
       "ad_type_id                 0\n",
       "geo_id                     0\n",
       "device_category_id         0\n",
       "advertiser_id              0\n",
       "order_id                   0\n",
       "line_item_type_id          0\n",
       "os_id                      0\n",
       "integration_type_id        0\n",
       "monetization_channel_id    0\n",
       "ad_unit_id                 0\n",
       "total_impressions          0\n",
       "total_revenue              0\n",
       "viewable_impressions       0\n",
       "measurable_impressions     0\n",
       "revenue_share_percent      0\n",
       "dtype: int64"
      ]
     },
     "execution_count": 6,
     "metadata": {},
     "output_type": "execute_result"
    }
   ],
   "source": [
    "ldf_ad_data.isna().sum()"
   ]
  },
  {
   "cell_type": "markdown",
   "metadata": {
    "papermill": {
     "duration": 0.074539,
     "end_time": "2020-11-29T14:19:22.763760",
     "exception": false,
     "start_time": "2020-11-29T14:19:22.689221",
     "status": "completed"
    },
    "tags": []
   },
   "source": [
    "Before going further, we will make out the reason behind choosing the measurable impressions over total impressions.\n",
    "\n",
    "By definition:\n",
    "- total_impressions - measurement column measuring the impressions for the particular set of dimensions\n",
    "\n",
    "- viewable_impressions - Number of impressions on the site that were viewable out of all measurable impressions. A display ad is counted as viewable if at least 50% of its area  was displayed on screen for at least one second\n",
    "\n",
    "- measurable_impressions - Impressions that were measurable by Active View out of the total number of eligible impressions. This value should generally be close to 100%. For example, an impression that is rendering in a cross-domain iframe may not be measurable.\n",
    "\n",
    "That means the total impression represents superset. But the measurable impression is successful impressions amongst the total."
   ]
  },
  {
   "cell_type": "code",
   "execution_count": 7,
   "metadata": {
    "execution": {
     "iopub.execute_input": "2020-11-29T14:19:23.243140Z",
     "iopub.status.busy": "2020-11-29T14:19:23.242117Z",
     "iopub.status.idle": "2020-11-29T14:19:23.245753Z",
     "shell.execute_reply": "2020-11-29T14:19:23.246357Z"
    },
    "papermill": {
     "duration": 0.409659,
     "end_time": "2020-11-29T14:19:23.246517",
     "exception": false,
     "start_time": "2020-11-29T14:19:22.836858",
     "status": "completed"
    },
    "tags": []
   },
   "outputs": [
    {
     "name": "stdout",
     "output_type": "stream",
     "text": [
      "Impression Report\n",
      "\n",
      "+-------+----------+------------+\n",
      "| Total | Viewable | Measurable |\n",
      "+-------+----------+------------+\n",
      "|  100% |  38.13   |   95.48    |\n",
      "+-------+----------+------------+\n"
     ]
    }
   ],
   "source": [
    "# consider total impression is 100%\n",
    "\n",
    "impression_stats = PrettyTable()\n",
    "impression_stats.field_names = [\"Total\",\"Viewable\",\"Measurable\"]\n",
    "impression_stats.align[\"\"] = \"r\"\n",
    "impression_stats.add_row([\"100%\",\n",
    "                          \"%.2f\"%((sum(ldf_ad_data['viewable_impressions'])/sum(ldf_ad_data['total_impressions']))*100),\n",
    "                          \"%.2f\"%((sum(ldf_ad_data['measurable_impressions'])/sum(ldf_ad_data['total_impressions']))*100)])\n",
    "print(\"Impression Report\\n\")\n",
    "print(impression_stats)"
   ]
  },
  {
   "cell_type": "markdown",
   "metadata": {
    "papermill": {
     "duration": 0.075607,
     "end_time": "2020-11-29T14:19:23.398719",
     "exception": false,
     "start_time": "2020-11-29T14:19:23.323112",
     "status": "completed"
    },
    "tags": []
   },
   "source": [
    "The above table shows that the rate of eligible impression is **97.25%.** Hence, we will stick to the measurable impression for further calculations."
   ]
  },
  {
   "cell_type": "markdown",
   "metadata": {
    "papermill": {
     "duration": 0.073343,
     "end_time": "2020-11-29T14:19:23.546233",
     "exception": false,
     "start_time": "2020-11-29T14:19:23.472890",
     "status": "completed"
    },
    "tags": []
   },
   "source": [
    "#### Dealing with outliers"
   ]
  },
  {
   "cell_type": "code",
   "execution_count": 8,
   "metadata": {
    "execution": {
     "iopub.execute_input": "2020-11-29T14:19:23.701878Z",
     "iopub.status.busy": "2020-11-29T14:19:23.701028Z",
     "iopub.status.idle": "2020-11-29T14:19:24.285929Z",
     "shell.execute_reply": "2020-11-29T14:19:24.285148Z"
    },
    "papermill": {
     "duration": 0.666717,
     "end_time": "2020-11-29T14:19:24.286066",
     "exception": false,
     "start_time": "2020-11-29T14:19:23.619349",
     "status": "completed"
    },
    "tags": []
   },
   "outputs": [
    {
     "data": {
      "image/png": "[encoded data removed]",
      "text/plain": [
       "<Figure size 720x360 with 2 Axes>"
      ]
     },
     "metadata": {},
     "output_type": "display_data"
    }
   ],
   "source": [
    "fig, axs = plt.subplots(1, 2, figsize = (10,5))\n",
    "fig.suptitle('Before Outlier Removal - Measurable Impression (left) & Total Revenue (right)')\n",
    "axs[0].boxplot(ldf_ad_data.measurable_impressions);\n",
    "axs[1].boxplot(ldf_ad_data.total_revenue);"
   ]
  },
  {
   "cell_type": "code",
   "execution_count": 9,
   "metadata": {
    "execution": {
     "iopub.execute_input": "2020-11-29T14:19:24.445391Z",
     "iopub.status.busy": "2020-11-29T14:19:24.444589Z",
     "iopub.status.idle": "2020-11-29T14:19:24.601944Z",
     "shell.execute_reply": "2020-11-29T14:19:24.602673Z"
    },
    "papermill": {
     "duration": 0.240984,
     "end_time": "2020-11-29T14:19:24.602857",
     "exception": false,
     "start_time": "2020-11-29T14:19:24.361873",
     "status": "completed"
    },
    "tags": []
   },
   "outputs": [],
   "source": [
    "#remove the outliers \n",
    "ldf_ad_data = ldf_ad_data[ldf_ad_data['total_revenue'].between(ldf_ad_data['total_revenue'].quantile(.05), ldf_ad_data['total_revenue'].quantile(.95))]\n",
    "ldf_ad_data = ldf_ad_data[ldf_ad_data['measurable_impressions'].between(ldf_ad_data['measurable_impressions'].quantile(.05), ldf_ad_data['measurable_impressions'].quantile(.95))]"
   ]
  },
  {
   "cell_type": "code",
   "execution_count": 10,
   "metadata": {
    "execution": {
     "iopub.execute_input": "2020-11-29T14:19:24.767865Z",
     "iopub.status.busy": "2020-11-29T14:19:24.766957Z",
     "iopub.status.idle": "2020-11-29T14:19:25.243407Z",
     "shell.execute_reply": "2020-11-29T14:19:25.243988Z"
    },
    "papermill": {
     "duration": 0.564724,
     "end_time": "2020-11-29T14:19:25.244169",
     "exception": false,
     "start_time": "2020-11-29T14:19:24.679445",
     "status": "completed"
    },
    "tags": []
   },
   "outputs": [
    {
     "data": {
      "image/png": "[encoded data removed]",
      "text/plain": [
       "<Figure size 720x360 with 2 Axes>"
      ]
     },
     "metadata": {},
     "output_type": "display_data"
    }
   ],
   "source": [
    "fig, axs = plt.subplots(1, 2, figsize = (10,5))\n",
    "fig.suptitle('After Outlier Removal - Measurable Impression (left) & Total Revenue (right)')\n",
    "axs[0].boxplot(ldf_ad_data.measurable_impressions);\n",
    "axs[1].boxplot(ldf_ad_data.total_revenue);"
   ]
  },
  {
   "cell_type": "markdown",
   "metadata": {
    "papermill": {
     "duration": 0.075651,
     "end_time": "2020-11-29T14:19:25.397423",
     "exception": false,
     "start_time": "2020-11-29T14:19:25.321772",
     "status": "completed"
    },
    "tags": []
   },
   "source": [
    "From these pieces of information, we can see that some features won't be relevant in our exploratory analysis as mentioned in the documentation (such as order_id, line_item_type_id & Revenue_share_percent). Plus there are so many features to analyze that it may be better to concentrate on the ones which can give us real insights. Let's just remove them."
   ]
  },
  {
   "cell_type": "code",
   "execution_count": 11,
   "metadata": {
    "execution": {
     "iopub.execute_input": "2020-11-29T14:19:25.587456Z",
     "iopub.status.busy": "2020-11-29T14:19:25.561462Z",
     "iopub.status.idle": "2020-11-29T14:19:25.591250Z",
     "shell.execute_reply": "2020-11-29T14:19:25.590430Z"
    },
    "papermill": {
     "duration": 0.11817,
     "end_time": "2020-11-29T14:19:25.591383",
     "exception": false,
     "start_time": "2020-11-29T14:19:25.473213",
     "status": "completed"
    },
    "tags": []
   },
   "outputs": [],
   "source": [
    "shortlisted_columns = ['date',\n",
    " 'site_id',\n",
    " 'ad_type_id',\n",
    " 'geo_id',\n",
    " 'device_category_id',\n",
    " 'advertiser_id',\n",
    " 'os_id',\n",
    " 'ad_unit_id',\n",
    " 'total_impressions',\n",
    " 'total_revenue',\n",
    " 'viewable_impressions',\n",
    " 'measurable_impressions']\n",
    "\n",
    "ldf_ad_data = ldf_ad_data[shortlisted_columns]"
   ]
  },
  {
   "cell_type": "markdown",
   "metadata": {
    "papermill": {
     "duration": 0.076325,
     "end_time": "2020-11-29T14:19:25.745153",
     "exception": false,
     "start_time": "2020-11-29T14:19:25.668828",
     "status": "completed"
    },
    "tags": []
   },
   "source": [
    "<hr/>"
   ]
  },
  {
   "cell_type": "markdown",
   "metadata": {
    "papermill": {
     "duration": 0.076366,
     "end_time": "2020-11-29T14:19:25.898708",
     "exception": false,
     "start_time": "2020-11-29T14:19:25.822342",
     "status": "completed"
    },
    "tags": []
   },
   "source": [
    "# 2. Exploratory Data Analysis (EDA)\n",
    "\n",
    "The purpose of this EDA is to find insights that will serve us later for Data cleaning/preparation/transformation which will ultimately be used into a machine learning algorithm.\n",
    "\n",
    "1. EDA of **Date** Variable\n",
    "2. EDA of Remaining Variables\n",
    "\n",
    "<hr/>"
   ]
  },
  {
   "cell_type": "code",
   "execution_count": 12,
   "metadata": {
    "execution": {
     "iopub.execute_input": "2020-11-29T14:19:26.068940Z",
     "iopub.status.busy": "2020-11-29T14:19:26.063746Z",
     "iopub.status.idle": "2020-11-29T14:19:26.076011Z",
     "shell.execute_reply": "2020-11-29T14:19:26.075228Z"
    },
    "papermill": {
     "duration": 0.099705,
     "end_time": "2020-11-29T14:19:26.076157",
     "exception": false,
     "start_time": "2020-11-29T14:19:25.976452",
     "status": "completed"
    },
    "tags": []
   },
   "outputs": [],
   "source": [
    "def plot_dual_graph(x, y1, y2, figsize = (15,7)):\n",
    "    \"\"\"\n",
    "    This method is used to plot dual graph by accepting three params:\n",
    "    :param1 - x = x-axis\n",
    "    :param2 - y1 = y1-axis(left) - Calculate & Plot Mean \n",
    "    :param3 - y2 = y2-axis(right) - Calculate & Plot count\n",
    "    \"\"\"\n",
    "    fig, axes = plt.subplots(nrows=1,ncols=1,figsize=figsize)\n",
    "\n",
    "    ldf_avg_loss_amount_per_x =  ldf_ad_data.groupby(x)[y1].mean().to_frame(name = y1).reset_index()\n",
    "    ldf_avg_claims_per_x =  ldf_ad_data.groupby(x)[y2].count().to_frame(name = y2).reset_index()\n",
    "    ldf_day_wise = ldf_avg_loss_amount_per_x.merge(ldf_avg_claims_per_x)\n",
    "\n",
    "    ldf_day_wise[[y2]].plot(kind = \"bar\", color=[\"c\"], ax=axes, label=\"A\")\n",
    "    axes.set_ylabel(\"# \"+str(y2), fontsize=15)\n",
    "    axes.set_xlabel(x, fontsize=15)\n",
    "\n",
    "    ax2 = axes.twinx()\n",
    "    ax2.set_ylabel(\"Average \"+str(y1), fontsize=15)\n",
    "    ldf_day_wise[[y1]].plot(linestyle='-', marker='o', color=[\"r\"], ax=ax2, label=\"B\")\n",
    "\n",
    "    plt.title(\" & \".join(x)+\" vs # \"+str(y2)+\" (left) & Average \"+str(y1)+\" (right)\", fontsize=15)\n",
    "    plt.grid(which='major', linestyle='-', linewidth='0.2', color='black')\n",
    "    plt.show()\n",
    "\n",
    "    return ldf_day_wise"
   ]
  },
  {
   "cell_type": "markdown",
   "metadata": {
    "papermill": {
     "duration": 0.078019,
     "end_time": "2020-11-29T14:19:26.232906",
     "exception": false,
     "start_time": "2020-11-29T14:19:26.154887",
     "status": "completed"
    },
    "tags": []
   },
   "source": [
    "### 2.1 EDA of Date Variable"
   ]
  },
  {
   "cell_type": "code",
   "execution_count": 13,
   "metadata": {
    "execution": {
     "iopub.execute_input": "2020-11-29T14:19:26.398353Z",
     "iopub.status.busy": "2020-11-29T14:19:26.397572Z",
     "iopub.status.idle": "2020-11-29T14:19:26.407775Z",
     "shell.execute_reply": "2020-11-29T14:19:26.407120Z"
    },
    "papermill": {
     "duration": 0.095738,
     "end_time": "2020-11-29T14:19:26.407919",
     "exception": false,
     "start_time": "2020-11-29T14:19:26.312181",
     "status": "completed"
    },
    "tags": []
   },
   "outputs": [
    {
     "name": "stdout",
     "output_type": "stream",
     "text": [
      "First date in dataset - 2019-06-01 00:00:00\n",
      "Last date in dataset - 2019-06-30 00:00:00\n",
      "No. of Days Present - 29 days 00:00:00\n"
     ]
    }
   ],
   "source": [
    "start_date = ldf_ad_data[\"date\"].min()\n",
    "end_date = ldf_ad_data[\"date\"].max()\n",
    "\n",
    "print(\"First date in dataset - \"+str(start_date))\n",
    "print(\"Last date in dataset - \"+str(end_date))\n",
    "print(\"No. of Days Present - \"+str(end_date-start_date))"
   ]
  },
  {
   "cell_type": "markdown",
   "metadata": {
    "papermill": {
     "duration": 0.100216,
     "end_time": "2020-11-29T14:19:26.587611",
     "exception": false,
     "start_time": "2020-11-29T14:19:26.487395",
     "status": "completed"
    },
    "tags": []
   },
   "source": [
    "Now, if we observe the above statements, the date has only 29 days. So, what we’ll do is, we'll analyze impression & revenue data day-wise & week-wise."
   ]
  },
  {
   "cell_type": "markdown",
   "metadata": {
    "papermill": {
     "duration": 0.078397,
     "end_time": "2020-11-29T14:19:26.753969",
     "exception": false,
     "start_time": "2020-11-29T14:19:26.675572",
     "status": "completed"
    },
    "tags": []
   },
   "source": [
    "##### Day wise"
   ]
  },
  {
   "cell_type": "code",
   "execution_count": 14,
   "metadata": {
    "execution": {
     "iopub.execute_input": "2020-11-29T14:19:26.926188Z",
     "iopub.status.busy": "2020-11-29T14:19:26.923939Z",
     "iopub.status.idle": "2020-11-29T14:19:28.000917Z",
     "shell.execute_reply": "2020-11-29T14:19:28.000143Z"
    },
    "papermill": {
     "duration": 1.168816,
     "end_time": "2020-11-29T14:19:28.001065",
     "exception": false,
     "start_time": "2020-11-29T14:19:26.832249",
     "status": "completed"
    },
    "tags": []
   },
   "outputs": [
    {
     "data": {
      "image/png": "[encoded data removed]",
      "text/plain": [
       "<Figure size 1080x504 with 2 Axes>"
      ]
     },
     "metadata": {},
     "output_type": "display_data"
    },
    {
     "data": {
      "text/html": [
       "<div>\n",
       "<style scoped>\n",
       "    .dataframe tbody tr th:only-of-type {\n",
       "        vertical-align: middle;\n",
       "    }\n",
       "\n",
       "    .dataframe tbody tr th {\n",
       "        vertical-align: top;\n",
       "    }\n",
       "\n",
       "    .dataframe thead th {\n",
       "        text-align: right;\n",
       "    }\n",
       "</style>\n",
       "<table border=\"1\" class=\"dataframe\">\n",
       "  <thead>\n",
       "    <tr style=\"text-align: right;\">\n",
       "      <th></th>\n",
       "      <th>date</th>\n",
       "      <th>total_revenue</th>\n",
       "      <th>measurable_impressions</th>\n",
       "    </tr>\n",
       "  </thead>\n",
       "  <tbody>\n",
       "    <tr>\n",
       "      <th>0</th>\n",
       "      <td>2019-06-01</td>\n",
       "      <td>0.0053</td>\n",
       "      <td>14145</td>\n",
       "    </tr>\n",
       "    <tr>\n",
       "      <th>1</th>\n",
       "      <td>2019-06-02</td>\n",
       "      <td>0.0053</td>\n",
       "      <td>15550</td>\n",
       "    </tr>\n",
       "    <tr>\n",
       "      <th>2</th>\n",
       "      <td>2019-06-03</td>\n",
       "      <td>0.0050</td>\n",
       "      <td>17854</td>\n",
       "    </tr>\n",
       "    <tr>\n",
       "      <th>3</th>\n",
       "      <td>2019-06-04</td>\n",
       "      <td>0.0049</td>\n",
       "      <td>16416</td>\n",
       "    </tr>\n",
       "    <tr>\n",
       "      <th>4</th>\n",
       "      <td>2019-06-05</td>\n",
       "      <td>0.0049</td>\n",
       "      <td>15607</td>\n",
       "    </tr>\n",
       "    <tr>\n",
       "      <th>5</th>\n",
       "      <td>2019-06-06</td>\n",
       "      <td>0.0051</td>\n",
       "      <td>16933</td>\n",
       "    </tr>\n",
       "    <tr>\n",
       "      <th>6</th>\n",
       "      <td>2019-06-07</td>\n",
       "      <td>0.0048</td>\n",
       "      <td>17428</td>\n",
       "    </tr>\n",
       "    <tr>\n",
       "      <th>7</th>\n",
       "      <td>2019-06-08</td>\n",
       "      <td>0.0049</td>\n",
       "      <td>14697</td>\n",
       "    </tr>\n",
       "    <tr>\n",
       "      <th>8</th>\n",
       "      <td>2019-06-09</td>\n",
       "      <td>0.0046</td>\n",
       "      <td>16966</td>\n",
       "    </tr>\n",
       "    <tr>\n",
       "      <th>9</th>\n",
       "      <td>2019-06-10</td>\n",
       "      <td>0.0045</td>\n",
       "      <td>19191</td>\n",
       "    </tr>\n",
       "    <tr>\n",
       "      <th>10</th>\n",
       "      <td>2019-06-11</td>\n",
       "      <td>0.0046</td>\n",
       "      <td>16541</td>\n",
       "    </tr>\n",
       "    <tr>\n",
       "      <th>11</th>\n",
       "      <td>2019-06-12</td>\n",
       "      <td>0.0042</td>\n",
       "      <td>15254</td>\n",
       "    </tr>\n",
       "    <tr>\n",
       "      <th>12</th>\n",
       "      <td>2019-06-13</td>\n",
       "      <td>0.0045</td>\n",
       "      <td>17675</td>\n",
       "    </tr>\n",
       "    <tr>\n",
       "      <th>13</th>\n",
       "      <td>2019-06-14</td>\n",
       "      <td>0.0045</td>\n",
       "      <td>18367</td>\n",
       "    </tr>\n",
       "    <tr>\n",
       "      <th>14</th>\n",
       "      <td>2019-06-15</td>\n",
       "      <td>0.0046</td>\n",
       "      <td>15113</td>\n",
       "    </tr>\n",
       "    <tr>\n",
       "      <th>15</th>\n",
       "      <td>2019-06-16</td>\n",
       "      <td>0.0048</td>\n",
       "      <td>17092</td>\n",
       "    </tr>\n",
       "    <tr>\n",
       "      <th>16</th>\n",
       "      <td>2019-06-17</td>\n",
       "      <td>0.0047</td>\n",
       "      <td>19279</td>\n",
       "    </tr>\n",
       "    <tr>\n",
       "      <th>17</th>\n",
       "      <td>2019-06-18</td>\n",
       "      <td>0.0046</td>\n",
       "      <td>17081</td>\n",
       "    </tr>\n",
       "    <tr>\n",
       "      <th>18</th>\n",
       "      <td>2019-06-19</td>\n",
       "      <td>0.0044</td>\n",
       "      <td>17383</td>\n",
       "    </tr>\n",
       "    <tr>\n",
       "      <th>19</th>\n",
       "      <td>2019-06-20</td>\n",
       "      <td>0.0046</td>\n",
       "      <td>19914</td>\n",
       "    </tr>\n",
       "    <tr>\n",
       "      <th>20</th>\n",
       "      <td>2019-06-21</td>\n",
       "      <td>0.0046</td>\n",
       "      <td>20260</td>\n",
       "    </tr>\n",
       "    <tr>\n",
       "      <th>21</th>\n",
       "      <td>2019-06-22</td>\n",
       "      <td>0.0047</td>\n",
       "      <td>17436</td>\n",
       "    </tr>\n",
       "    <tr>\n",
       "      <th>22</th>\n",
       "      <td>2019-06-23</td>\n",
       "      <td>0.0047</td>\n",
       "      <td>18756</td>\n",
       "    </tr>\n",
       "    <tr>\n",
       "      <th>23</th>\n",
       "      <td>2019-06-24</td>\n",
       "      <td>0.0045</td>\n",
       "      <td>21068</td>\n",
       "    </tr>\n",
       "    <tr>\n",
       "      <th>24</th>\n",
       "      <td>2019-06-25</td>\n",
       "      <td>0.0045</td>\n",
       "      <td>17260</td>\n",
       "    </tr>\n",
       "    <tr>\n",
       "      <th>25</th>\n",
       "      <td>2019-06-26</td>\n",
       "      <td>0.0047</td>\n",
       "      <td>14702</td>\n",
       "    </tr>\n",
       "    <tr>\n",
       "      <th>26</th>\n",
       "      <td>2019-06-27</td>\n",
       "      <td>0.0049</td>\n",
       "      <td>17430</td>\n",
       "    </tr>\n",
       "    <tr>\n",
       "      <th>27</th>\n",
       "      <td>2019-06-28</td>\n",
       "      <td>0.0048</td>\n",
       "      <td>17540</td>\n",
       "    </tr>\n",
       "    <tr>\n",
       "      <th>28</th>\n",
       "      <td>2019-06-29</td>\n",
       "      <td>0.0049</td>\n",
       "      <td>14145</td>\n",
       "    </tr>\n",
       "    <tr>\n",
       "      <th>29</th>\n",
       "      <td>2019-06-30</td>\n",
       "      <td>0.0047</td>\n",
       "      <td>16086</td>\n",
       "    </tr>\n",
       "  </tbody>\n",
       "</table>\n",
       "</div>"
      ],
      "text/plain": [
       "         date        total_revenue  measurable_impressions\n",
       "0  2019-06-01               0.0053                   14145\n",
       "1  2019-06-02               0.0053                   15550\n",
       "2  2019-06-03               0.0050                   17854\n",
       "3  2019-06-04               0.0049                   16416\n",
       "4  2019-06-05               0.0049                   15607\n",
       "5  2019-06-06               0.0051                   16933\n",
       "6  2019-06-07               0.0048                   17428\n",
       "7  2019-06-08               0.0049                   14697\n",
       "8  2019-06-09               0.0046                   16966\n",
       "9  2019-06-10               0.0045                   19191\n",
       "10 2019-06-11               0.0046                   16541\n",
       "11 2019-06-12               0.0042                   15254\n",
       "12 2019-06-13               0.0045                   17675\n",
       "13 2019-06-14               0.0045                   18367\n",
       "14 2019-06-15               0.0046                   15113\n",
       "15 2019-06-16               0.0048                   17092\n",
       "16 2019-06-17               0.0047                   19279\n",
       "17 2019-06-18               0.0046                   17081\n",
       "18 2019-06-19               0.0044                   17383\n",
       "19 2019-06-20               0.0046                   19914\n",
       "20 2019-06-21               0.0046                   20260\n",
       "21 2019-06-22               0.0047                   17436\n",
       "22 2019-06-23               0.0047                   18756\n",
       "23 2019-06-24               0.0045                   21068\n",
       "24 2019-06-25               0.0045                   17260\n",
       "25 2019-06-26               0.0047                   14702\n",
       "26 2019-06-27               0.0049                   17430\n",
       "27 2019-06-28               0.0048                   17540\n",
       "28 2019-06-29               0.0049                   14145\n",
       "29 2019-06-30               0.0047                   16086"
      ]
     },
     "execution_count": 14,
     "metadata": {},
     "output_type": "execute_result"
    }
   ],
   "source": [
    "plot_dual_graph(x = ['date'], y1 = 'total_revenue', y2 = 'measurable_impressions', figsize=(15,7))"
   ]
  },
  {
   "cell_type": "markdown",
   "metadata": {
    "papermill": {
     "duration": 0.081595,
     "end_time": "2020-11-29T14:19:28.216142",
     "exception": false,
     "start_time": "2020-11-29T14:19:28.134547",
     "status": "completed"
    },
    "tags": []
   },
   "source": [
    "As seen above, there was an equal distribution of revenue amount as well as measurable impressions throughout the month (day-wise). We cannot completely understand the distribution without magnifying the data. Let's see if we can see any trends week-wise\n",
    "<hr/>"
   ]
  },
  {
   "cell_type": "markdown",
   "metadata": {
    "papermill": {
     "duration": 0.081497,
     "end_time": "2020-11-29T14:19:28.378458",
     "exception": false,
     "start_time": "2020-11-29T14:19:28.296961",
     "status": "completed"
    },
    "tags": []
   },
   "source": [
    "##### Week-wise\n",
    "> Determine Week using iso calender & store them in WeekNo column"
   ]
  },
  {
   "cell_type": "code",
   "execution_count": 15,
   "metadata": {
    "execution": {
     "iopub.execute_input": "2020-11-29T14:19:28.547321Z",
     "iopub.status.busy": "2020-11-29T14:19:28.546200Z",
     "iopub.status.idle": "2020-11-29T14:19:40.820910Z",
     "shell.execute_reply": "2020-11-29T14:19:40.820156Z"
    },
    "papermill": {
     "duration": 12.361567,
     "end_time": "2020-11-29T14:19:40.821089",
     "exception": false,
     "start_time": "2020-11-29T14:19:28.459522",
     "status": "completed"
    },
    "tags": []
   },
   "outputs": [],
   "source": [
    "ldf_ad_data[\"WeekNo\"] = ldf_ad_data.apply(lambda x: x[\"date\"].isocalendar()[1], axis=1)"
   ]
  },
  {
   "cell_type": "code",
   "execution_count": 16,
   "metadata": {
    "execution": {
     "iopub.execute_input": "2020-11-29T14:19:41.004241Z",
     "iopub.status.busy": "2020-11-29T14:19:41.002454Z",
     "iopub.status.idle": "2020-11-29T14:19:41.507470Z",
     "shell.execute_reply": "2020-11-29T14:19:41.508637Z"
    },
    "papermill": {
     "duration": 0.605966,
     "end_time": "2020-11-29T14:19:41.508889",
     "exception": false,
     "start_time": "2020-11-29T14:19:40.902923",
     "status": "completed"
    },
    "tags": []
   },
   "outputs": [
    {
     "data": {
      "image/png": "[encoded data removed]",
      "text/plain": [
       "<Figure size 720x432 with 2 Axes>"
      ]
     },
     "metadata": {},
     "output_type": "display_data"
    },
    {
     "data": {
      "text/html": [
       "<div>\n",
       "<style scoped>\n",
       "    .dataframe tbody tr th:only-of-type {\n",
       "        vertical-align: middle;\n",
       "    }\n",
       "\n",
       "    .dataframe tbody tr th {\n",
       "        vertical-align: top;\n",
       "    }\n",
       "\n",
       "    .dataframe thead th {\n",
       "        text-align: right;\n",
       "    }\n",
       "</style>\n",
       "<table border=\"1\" class=\"dataframe\">\n",
       "  <thead>\n",
       "    <tr style=\"text-align: right;\">\n",
       "      <th></th>\n",
       "      <th>WeekNo</th>\n",
       "      <th>total_revenue</th>\n",
       "      <th>measurable_impressions</th>\n",
       "    </tr>\n",
       "  </thead>\n",
       "  <tbody>\n",
       "    <tr>\n",
       "      <th>0</th>\n",
       "      <td>22</td>\n",
       "      <td>0.0053</td>\n",
       "      <td>29695</td>\n",
       "    </tr>\n",
       "    <tr>\n",
       "      <th>1</th>\n",
       "      <td>23</td>\n",
       "      <td>0.0049</td>\n",
       "      <td>115901</td>\n",
       "    </tr>\n",
       "    <tr>\n",
       "      <th>2</th>\n",
       "      <td>24</td>\n",
       "      <td>0.0045</td>\n",
       "      <td>119233</td>\n",
       "    </tr>\n",
       "    <tr>\n",
       "      <th>3</th>\n",
       "      <td>25</td>\n",
       "      <td>0.0046</td>\n",
       "      <td>130109</td>\n",
       "    </tr>\n",
       "    <tr>\n",
       "      <th>4</th>\n",
       "      <td>26</td>\n",
       "      <td>0.0047</td>\n",
       "      <td>118231</td>\n",
       "    </tr>\n",
       "  </tbody>\n",
       "</table>\n",
       "</div>"
      ],
      "text/plain": [
       "   WeekNo        total_revenue  measurable_impressions\n",
       "0      22               0.0053                   29695\n",
       "1      23               0.0049                  115901\n",
       "2      24               0.0045                  119233\n",
       "3      25               0.0046                  130109\n",
       "4      26               0.0047                  118231"
      ]
     },
     "execution_count": 16,
     "metadata": {},
     "output_type": "execute_result"
    }
   ],
   "source": [
    "plot_dual_graph(x = ['WeekNo'], y1 = 'total_revenue', y2 = 'measurable_impressions', figsize=(10,6))"
   ]
  },
  {
   "cell_type": "markdown",
   "metadata": {
    "papermill": {
     "duration": 0.096144,
     "end_time": "2020-11-29T14:19:41.713098",
     "exception": false,
     "start_time": "2020-11-29T14:19:41.616954",
     "status": "completed"
    },
    "tags": []
   },
   "source": [
    "Again! As seen above, there was an equal distribution of revenue amount as well as measurable impressions throughout the month (week-wise). But there might be chances we see a trade-off between day vs revenue and/or impression on weekdays/weekends.\n",
    "<hr/>"
   ]
  },
  {
   "cell_type": "markdown",
   "metadata": {
    "papermill": {
     "duration": 0.084133,
     "end_time": "2020-11-29T14:19:41.888544",
     "exception": false,
     "start_time": "2020-11-29T14:19:41.804411",
     "status": "completed"
    },
    "tags": []
   },
   "source": [
    "##### Weekend-wise\n",
    "> Let's calculate weekend day using datetime's weekday() method & store them in isWeekend column"
   ]
  },
  {
   "cell_type": "code",
   "execution_count": 17,
   "metadata": {
    "execution": {
     "iopub.execute_input": "2020-11-29T14:19:42.069245Z",
     "iopub.status.busy": "2020-11-29T14:19:42.068366Z",
     "iopub.status.idle": "2020-11-29T14:19:53.860499Z",
     "shell.execute_reply": "2020-11-29T14:19:53.861162Z"
    },
    "papermill": {
     "duration": 11.887813,
     "end_time": "2020-11-29T14:19:53.861351",
     "exception": false,
     "start_time": "2020-11-29T14:19:41.973538",
     "status": "completed"
    },
    "tags": []
   },
   "outputs": [],
   "source": [
    "ldf_ad_data[\"is_weekend\"] = ldf_ad_data.apply(lambda x: 1 if x[\"date\"].weekday()>5 else 0, axis=1)"
   ]
  },
  {
   "cell_type": "code",
   "execution_count": 18,
   "metadata": {
    "execution": {
     "iopub.execute_input": "2020-11-29T14:19:54.048577Z",
     "iopub.status.busy": "2020-11-29T14:19:54.043661Z",
     "iopub.status.idle": "2020-11-29T14:19:54.426025Z",
     "shell.execute_reply": "2020-11-29T14:19:54.426604Z"
    },
    "papermill": {
     "duration": 0.48256,
     "end_time": "2020-11-29T14:19:54.426753",
     "exception": false,
     "start_time": "2020-11-29T14:19:53.944193",
     "status": "completed"
    },
    "tags": []
   },
   "outputs": [
    {
     "data": {
      "image/png": "[encoded data removed]",
      "text/plain": [
       "<Figure size 504x360 with 2 Axes>"
      ]
     },
     "metadata": {},
     "output_type": "display_data"
    },
    {
     "data": {
      "text/html": [
       "<div>\n",
       "<style scoped>\n",
       "    .dataframe tbody tr th:only-of-type {\n",
       "        vertical-align: middle;\n",
       "    }\n",
       "\n",
       "    .dataframe tbody tr th {\n",
       "        vertical-align: top;\n",
       "    }\n",
       "\n",
       "    .dataframe thead th {\n",
       "        text-align: right;\n",
       "    }\n",
       "</style>\n",
       "<table border=\"1\" class=\"dataframe\">\n",
       "  <thead>\n",
       "    <tr style=\"text-align: right;\">\n",
       "      <th></th>\n",
       "      <th>is_weekend</th>\n",
       "      <th>total_revenue</th>\n",
       "      <th>measurable_impressions</th>\n",
       "    </tr>\n",
       "  </thead>\n",
       "  <tbody>\n",
       "    <tr>\n",
       "      <th>0</th>\n",
       "      <td>0</td>\n",
       "      <td>0.0047</td>\n",
       "      <td>428719</td>\n",
       "    </tr>\n",
       "    <tr>\n",
       "      <th>1</th>\n",
       "      <td>1</td>\n",
       "      <td>0.0048</td>\n",
       "      <td>84450</td>\n",
       "    </tr>\n",
       "  </tbody>\n",
       "</table>\n",
       "</div>"
      ],
      "text/plain": [
       "   is_weekend        total_revenue  measurable_impressions\n",
       "0           0               0.0047                  428719\n",
       "1           1               0.0048                   84450"
      ]
     },
     "execution_count": 18,
     "metadata": {},
     "output_type": "execute_result"
    }
   ],
   "source": [
    "plot_dual_graph(x = ['is_weekend'], y1 = 'total_revenue', y2 = 'measurable_impressions', figsize=(7,5))"
   ]
  },
  {
   "cell_type": "code",
   "execution_count": 19,
   "metadata": {
    "execution": {
     "iopub.execute_input": "2020-11-29T14:19:54.602912Z",
     "iopub.status.busy": "2020-11-29T14:19:54.601892Z",
     "iopub.status.idle": "2020-11-29T14:19:54.614423Z",
     "shell.execute_reply": "2020-11-29T14:19:54.613723Z"
    },
    "papermill": {
     "duration": 0.102684,
     "end_time": "2020-11-29T14:19:54.614567",
     "exception": false,
     "start_time": "2020-11-29T14:19:54.511883",
     "status": "completed"
    },
    "tags": []
   },
   "outputs": [
    {
     "data": {
      "text/plain": [
       "0                 0.8354\n",
       "1                 0.1646\n",
       "Name: is_weekend, dtype: float64"
      ]
     },
     "execution_count": 19,
     "metadata": {},
     "output_type": "execute_result"
    }
   ],
   "source": [
    "ldf_ad_data[\"is_weekend\"].value_counts(normalize=True)"
   ]
  },
  {
   "cell_type": "markdown",
   "metadata": {
    "papermill": {
     "duration": 0.08512,
     "end_time": "2020-11-29T14:19:54.785259",
     "exception": false,
     "start_time": "2020-11-29T14:19:54.700139",
     "status": "completed"
    },
    "tags": []
   },
   "source": [
    "`is_weekend` seems to share a varied distribution to the one we have with total_revenue i.e. **83%** data is accumulated on `weekdays`!"
   ]
  },
  {
   "cell_type": "markdown",
   "metadata": {
    "papermill": {
     "duration": 0.085159,
     "end_time": "2020-11-29T14:19:54.956003",
     "exception": false,
     "start_time": "2020-11-29T14:19:54.870844",
     "status": "completed"
    },
    "tags": []
   },
   "source": [
    "<br/><hr/>"
   ]
  },
  {
   "cell_type": "markdown",
   "metadata": {
    "papermill": {
     "duration": 0.084922,
     "end_time": "2020-11-29T14:19:55.127395",
     "exception": false,
     "start_time": "2020-11-29T14:19:55.042473",
     "status": "completed"
    },
    "tags": []
   },
   "source": [
    "### 2.2 EDA of Remaining Variables"
   ]
  },
  {
   "cell_type": "markdown",
   "metadata": {
    "papermill": {
     "duration": 0.085168,
     "end_time": "2020-11-29T14:19:55.298633",
     "exception": false,
     "start_time": "2020-11-29T14:19:55.213465",
     "status": "completed"
    },
    "tags": []
   },
   "source": [
    "#### For this part, let's look at the distribution of all of the features by plotting them"
   ]
  },
  {
   "cell_type": "code",
   "execution_count": 20,
   "metadata": {
    "execution": {
     "iopub.execute_input": "2020-11-29T14:19:55.484512Z",
     "iopub.status.busy": "2020-11-29T14:19:55.483611Z",
     "iopub.status.idle": "2020-11-29T14:20:01.533610Z",
     "shell.execute_reply": "2020-11-29T14:20:01.532823Z"
    },
    "papermill": {
     "duration": 6.147832,
     "end_time": "2020-11-29T14:20:01.533751",
     "exception": false,
     "start_time": "2020-11-29T14:19:55.385919",
     "status": "completed"
    },
    "tags": []
   },
   "outputs": [
    {
     "data": {
      "image/png": "[encoded data removed]",
      "text/plain": [
       "<Figure size 1152x1440 with 16 Axes>"
      ]
     },
     "metadata": {},
     "output_type": "display_data"
    }
   ],
   "source": [
    "ldf_ad_data.hist(figsize=(16, 20), bins=50, xlabelsize=8, ylabelsize=8);"
   ]
  },
  {
   "cell_type": "markdown",
   "metadata": {
    "papermill": {
     "duration": 0.09951,
     "end_time": "2020-11-29T14:20:01.724581",
     "exception": false,
     "start_time": "2020-11-29T14:20:01.625071",
     "status": "completed"
    },
    "tags": []
   },
   "source": [
    "Features such as `site_id`, `ad_type_id`, `geo_id`, `device_category_id`, `ad_unit_id`, `week_no` etc. seems to share a similar distribution to the one we have with `total_revenue`."
   ]
  },
  {
   "cell_type": "markdown",
   "metadata": {
    "papermill": {
     "duration": 0.094309,
     "end_time": "2020-11-29T14:20:01.913421",
     "exception": false,
     "start_time": "2020-11-29T14:20:01.819112",
     "status": "completed"
    },
    "tags": []
   },
   "source": [
    "<hr/>"
   ]
  },
  {
   "cell_type": "markdown",
   "metadata": {
    "papermill": {
     "duration": 0.106115,
     "end_time": "2020-11-29T14:20:02.135640",
     "exception": false,
     "start_time": "2020-11-29T14:20:02.029525",
     "status": "completed"
    },
    "tags": []
   },
   "source": [
    "#### Correlation"
   ]
  },
  {
   "cell_type": "markdown",
   "metadata": {
    "papermill": {
     "duration": 0.100998,
     "end_time": "2020-11-29T14:20:02.328826",
     "exception": false,
     "start_time": "2020-11-29T14:20:02.227828",
     "status": "completed"
    },
    "tags": []
   },
   "source": [
    "Now we'll try to find which features are strongly correlated with `total_revenue`. We'll store them in a var called golden_features_list. We'll reuse our `ldf_ad_data` dataset to do so."
   ]
  },
  {
   "cell_type": "code",
   "execution_count": 21,
   "metadata": {
    "execution": {
     "iopub.execute_input": "2020-11-29T14:20:02.585544Z",
     "iopub.status.busy": "2020-11-29T14:20:02.583972Z",
     "iopub.status.idle": "2020-11-29T14:20:02.922929Z",
     "shell.execute_reply": "2020-11-29T14:20:02.923878Z"
    },
    "papermill": {
     "duration": 0.470609,
     "end_time": "2020-11-29T14:20:02.924135",
     "exception": false,
     "start_time": "2020-11-29T14:20:02.453526",
     "status": "completed"
    },
    "tags": []
   },
   "outputs": [
    {
     "name": "stdout",
     "output_type": "stream",
     "text": [
      "There is 5 strongly correlated values with total_revenue:\n",
      "total_revenue                          1.0000\n",
      "measurable_impressions                 0.4916\n",
      "total_impressions                      0.4777\n",
      "viewable_impressions                   0.3421\n",
      "geo_id                                 0.1564\n",
      "Name: total_revenue, dtype: float64\n"
     ]
    }
   ],
   "source": [
    "ldf_ad_data_corr = ldf_ad_data.corr()['total_revenue'][:-1] # -1 because the latest row is total_revenue\n",
    "golden_features_list = ldf_ad_data_corr[abs(ldf_ad_data_corr) > 0.1].sort_values(ascending=False)\n",
    "print(\"There is {} strongly correlated values with total_revenue:\\n{}\".format(len(golden_features_list), golden_features_list))"
   ]
  },
  {
   "cell_type": "markdown",
   "metadata": {
    "papermill": {
     "duration": 0.111219,
     "end_time": "2020-11-29T14:20:03.151735",
     "exception": false,
     "start_time": "2020-11-29T14:20:03.040516",
     "status": "completed"
    },
    "tags": []
   },
   "source": [
    "Perfect, we now have a list of strongly correlated values.\n",
    "\n",
    "Btw, correlation by itself does not always explain the relationship between data, so plotting them could even lead us to new insights and in the same manner, check that our correlated values have a linear relationship to the total_revenue.\n",
    "\n",
    "For example, relationships such as curvilinear relationships cannot be guessed just by looking at the correlation value so let's take the features we excluded from our correlation table and plot them to see if they show some kind of pattern."
   ]
  },
  {
   "cell_type": "code",
   "execution_count": 22,
   "metadata": {
    "execution": {
     "iopub.execute_input": "2020-11-29T14:20:03.411353Z",
     "iopub.status.busy": "2020-11-29T14:20:03.408390Z",
     "iopub.status.idle": "2020-11-29T14:20:26.129061Z",
     "shell.execute_reply": "2020-11-29T14:20:26.128293Z"
    },
    "papermill": {
     "duration": 22.850157,
     "end_time": "2020-11-29T14:20:26.129200",
     "exception": false,
     "start_time": "2020-11-29T14:20:03.279043",
     "status": "completed"
    },
    "tags": []
   },
   "outputs": [
    {
     "data": {
      "image/png": "[encoded data removed]",
      "text/plain": [
       "<Figure size 900x180 with 5 Axes>"
      ]
     },
     "metadata": {},
     "output_type": "display_data"
    },
    {
     "data": {
      "image/png": "[encoded data removed]",
      "text/plain": [
       "<Figure size 900x180 with 5 Axes>"
      ]
     },
     "metadata": {},
     "output_type": "display_data"
    },
    {
     "data": {
      "image/png": "[encoded data removed]",
      "text/plain": [
       "<Figure size 720x180 with 4 Axes>"
      ]
     },
     "metadata": {},
     "output_type": "display_data"
    }
   ],
   "source": [
    "for i in range(0, len(ldf_ad_data.columns), 5):\n",
    "    sns.pairplot(data=ldf_ad_data,\n",
    "                x_vars=ldf_ad_data.columns[i:i+5],\n",
    "                y_vars=['total_revenue'])"
   ]
  },
  {
   "cell_type": "markdown",
   "metadata": {
    "papermill": {
     "duration": 0.096267,
     "end_time": "2020-11-29T14:20:26.322125",
     "exception": false,
     "start_time": "2020-11-29T14:20:26.225858",
     "status": "completed"
    },
    "tags": []
   },
   "source": [
    "#### Conclusion"
   ]
  },
  {
   "cell_type": "markdown",
   "metadata": {
    "papermill": {
     "duration": 0.096436,
     "end_time": "2020-11-29T14:20:26.515876",
     "exception": false,
     "start_time": "2020-11-29T14:20:26.419440",
     "status": "completed"
    },
    "tags": []
   },
   "source": [
    "By looking at correlation, we discovered 11 features that have a strong (or moderate) relationship to revenue.\n",
    "\n",
    "Variables are as follows:\n",
    "\n",
    "- site_id\n",
    "- ad_type_id \n",
    "- geo_id\n",
    "- device_category_id \n",
    "- advertiser_id\n",
    "- os_id\n",
    "- ad_unit_id\n",
    "- is_weekend\n",
    "\n",
    "Also, impression variables are highly correlated (>70%) with total revenue \n",
    "- viewable impressions\n",
    "- measurable impressions\n",
    "- total  impressions "
   ]
  },
  {
   "cell_type": "markdown",
   "metadata": {
    "papermill": {
     "duration": 0.094523,
     "end_time": "2020-11-29T14:20:26.705468",
     "exception": false,
     "start_time": "2020-11-29T14:20:26.610945",
     "status": "completed"
    },
    "tags": []
   },
   "source": [
    "<hr/>"
   ]
  },
  {
   "cell_type": "markdown",
   "metadata": {
    "papermill": {
     "duration": 0.095081,
     "end_time": "2020-11-29T14:20:26.895558",
     "exception": false,
     "start_time": "2020-11-29T14:20:26.800477",
     "status": "completed"
    },
    "tags": []
   },
   "source": [
    "# 3. Discussion on the potential revenue range our publisher can make in July"
   ]
  },
  {
   "cell_type": "markdown",
   "metadata": {
    "papermill": {
     "duration": 0.098628,
     "end_time": "2020-11-29T14:20:27.089912",
     "exception": false,
     "start_time": "2020-11-29T14:20:26.991284",
     "status": "completed"
    },
    "tags": []
   },
   "source": [
    "A good revenue model is a proven technique used by digital businesses globally, to generate income from traffic on their website, mobile apps, and via digital channels. [Ref](https://www.smartinsights.com/digital-marketing-strategy/online-business-revenue-models/online-revenue-model-options-internet-business/)\n",
    "\n",
    "In the following section, we will set some assumptions to calculate the potential revenue range for july month.\n",
    "1. Background\n",
    "3. Hypothesis\n",
    "4. Calculate Revenue Range for July Month\n",
    "5. Conclusion\n",
    "\n",
    "<hr/>"
   ]
  },
  {
   "cell_type": "markdown",
   "metadata": {
    "papermill": {
     "duration": 0.098065,
     "end_time": "2020-11-29T14:20:27.287056",
     "exception": false,
     "start_time": "2020-11-29T14:20:27.188991",
     "status": "completed"
    },
    "tags": []
   },
   "source": [
    "### 3.1 Background"
   ]
  },
  {
   "cell_type": "markdown",
   "metadata": {
    "papermill": {
     "duration": 0.095699,
     "end_time": "2020-11-29T14:20:27.480251",
     "exception": false,
     "start_time": "2020-11-29T14:20:27.384552",
     "status": "completed"
    },
    "tags": []
   },
   "source": [
    "##### Understand ad revenue\n",
    "\n",
    "Advertising revenue is the monetary income that individuals and businesses earn from displaying paid advertisements on their websites, social media channels, or other platforms surrounding their internet-based content. [Ref](https://en.wikipedia.org/wiki/Advertising_revenue) \n",
    "\n",
    "##### Is revenue equal to cpm ?\n",
    "Your revenue will not be equal to your CPM times your views. This is because CPM reflects what advertisers pay, not what you earn. Also, not all views will have ads. [Ref](https://support.google.com/youtube/answer/9314357?hl=en#:~:text=Your%20revenue%20will%20not%20be,all%20views%20will%20have%20ads.)\n",
    "\n",
    "##### Below are some commonly used parameters:\n",
    "- measurable_impressions - % inventory - the proportion of ad space sold on sites\n",
    "- Number of ad units (ad_unit_id)\n",
    "- CPM - Cost per thousand impressions for ad volume deals"
   ]
  },
  {
   "cell_type": "markdown",
   "metadata": {
    "papermill": {
     "duration": 0.095376,
     "end_time": "2020-11-29T14:20:27.673614",
     "exception": false,
     "start_time": "2020-11-29T14:20:27.578238",
     "status": "completed"
    },
    "tags": []
   },
   "source": [
    "### 3.2 Hypothesis"
   ]
  },
  {
   "cell_type": "markdown",
   "metadata": {
    "papermill": {
     "duration": 0.095115,
     "end_time": "2020-11-29T14:20:27.864724",
     "exception": false,
     "start_time": "2020-11-29T14:20:27.769609",
     "status": "completed"
    },
    "tags": []
   },
   "source": [
    "The assumption is pretty straight forward. We'll consider the sum of revenue & measurable impressions per line item (only those line items whose occurrences are pretty common i.e. at least 5 occurrences). \n",
    "\n",
    "The measurable impression denotes the eligible impressions and it is one of the important parameters in revenue.\n",
    "With that in mind, we will calculate CTR (measurable impression/total impressions). The purpose of calculating CTR that it will change in the future as other categories are pretty static.\n",
    "\n",
    "So, to forecast revenue, change in CTR will play a vital role."
   ]
  },
  {
   "cell_type": "markdown",
   "metadata": {
    "papermill": {
     "duration": 0.095541,
     "end_time": "2020-11-29T14:20:28.055789",
     "exception": false,
     "start_time": "2020-11-29T14:20:27.960248",
     "status": "completed"
    },
    "tags": []
   },
   "source": [
    "### 3.3 Algorithm"
   ]
  },
  {
   "cell_type": "markdown",
   "metadata": {
    "papermill": {
     "duration": 0.094494,
     "end_time": "2020-11-29T14:20:28.246190",
     "exception": false,
     "start_time": "2020-11-29T14:20:28.151696",
     "status": "completed"
    },
    "tags": []
   },
   "source": [
    "Step 1. Get sum of total_impressions, measurable_impressions, total_revenue per line item\n",
    "\n",
    "Step 2. Calculate CTR (CTR = measurable impression / total impression)\n",
    "\n",
    "Step 3. Drop unnecessary columns and create dummy variables of categorical column\n",
    "\n",
    "Step 4. Create train-test split\n",
    "\n",
    "Step 5. Fit the model\n",
    "\n",
    "Step 6. Predict on testing data\n",
    "\n",
    "Step 7. Now, using CTR let's create two more columns with boosted & dropped value of CTR by 5%\n",
    "\n",
    "Step 8. Predict on three values on CTR - Original, Boosted(+5%) & Dropped(-5%)"
   ]
  },
  {
   "cell_type": "code",
   "execution_count": 23,
   "metadata": {
    "execution": {
     "iopub.execute_input": "2020-11-29T14:20:28.456451Z",
     "iopub.status.busy": "2020-11-29T14:20:28.455598Z",
     "iopub.status.idle": "2020-11-29T14:20:28.781655Z",
     "shell.execute_reply": "2020-11-29T14:20:28.781045Z"
    },
    "papermill": {
     "duration": 0.440518,
     "end_time": "2020-11-29T14:20:28.781786",
     "exception": false,
     "start_time": "2020-11-29T14:20:28.341268",
     "status": "completed"
    },
    "tags": []
   },
   "outputs": [],
   "source": [
    "# Prepare data for modelling.\n",
    "# Group by line item - sum of total_impressions, measurable_impressions, total_revenue\n",
    "ldf_grouped_ad_data = ldf_ad_data.groupby([\"is_weekend\", \"site_id\",\"ad_type_id\", \"geo_id\",\"device_category_id\",\n",
    "                     \"advertiser_id\",\"os_id\",\"ad_unit_id\"])[\"total_impressions\",\"measurable_impressions\",\"total_revenue\"].sum().reset_index()\n",
    "\n",
    "# Below is the line item validator dataframe.\n",
    "# Group by line item - count of any of these -- total_impressions, measurable_impressions, total_revenue\n",
    "ldf_line_item_validator = ldf_ad_data.groupby([\"is_weekend\", \"site_id\",\"ad_type_id\",\n",
    "                     \"geo_id\",\"device_category_id\",\n",
    "                     \"advertiser_id\",\"os_id\",\"ad_unit_id\"])[\"total_revenue\"].count().to_frame(name = 'count').reset_index()\n",
    "\n",
    "ldf_grouped_ad_data = ldf_grouped_ad_data.merge(ldf_line_item_validator)\n",
    "\n",
    "# Select data to be used for modelling i.e. line item combination should be greater than 5\n",
    "# If count is less, treat them as a noise.\n",
    "ldf_grouped_ad_data_to_be_modeled = ldf_grouped_ad_data[(ldf_grouped_ad_data['total_impressions']>0)&\n",
    "                                          (ldf_grouped_ad_data['total_revenue']>0)&\n",
    "                                         (ldf_grouped_ad_data['count']>5)]\n",
    "\n",
    "# Store less frequent data in different data-frame\n",
    "ldf_grouped_ad_data_to_be_ignored_in_modelling = ldf_grouped_ad_data[(ldf_grouped_ad_data['total_impressions']>0)&\n",
    "                                          (ldf_grouped_ad_data['total_revenue']>0)&\n",
    "                                         (ldf_grouped_ad_data['count']<=5)]"
   ]
  },
  {
   "cell_type": "markdown",
   "metadata": {
    "papermill": {
     "duration": 0.094425,
     "end_time": "2020-11-29T14:20:28.970892",
     "exception": false,
     "start_time": "2020-11-29T14:20:28.876467",
     "status": "completed"
    },
    "tags": []
   },
   "source": [
    "#### Calculate CTR (CTR = measurable impression / total impression)\n",
    "\n",
    "In Internet marketing, CTR stands for click-through rate: a metric that measures the number of clicks advertisers receive on their ads per number of impressions.\n",
    "\n",
    "Achieving a high click-through rate is essential to your PPC success, because it directly affects both your Quality Score and how much you pay every time someone clicks your search ad. [Ref](https://www.wordstream.com/click-through-rate)"
   ]
  },
  {
   "cell_type": "code",
   "execution_count": 24,
   "metadata": {
    "execution": {
     "iopub.execute_input": "2020-11-29T14:20:29.181031Z",
     "iopub.status.busy": "2020-11-29T14:20:29.175792Z",
     "iopub.status.idle": "2020-11-29T14:20:29.455342Z",
     "shell.execute_reply": "2020-11-29T14:20:29.454517Z"
    },
    "papermill": {
     "duration": 0.387615,
     "end_time": "2020-11-29T14:20:29.455478",
     "exception": false,
     "start_time": "2020-11-29T14:20:29.067863",
     "status": "completed"
    },
    "tags": []
   },
   "outputs": [],
   "source": [
    "ldf_grouped_ad_data_to_be_modeled['CTR'] = ldf_grouped_ad_data_to_be_modeled.apply(lambda x: (x['measurable_impressions']/x['total_impressions'])*100, axis = 1)"
   ]
  },
  {
   "cell_type": "markdown",
   "metadata": {
    "papermill": {
     "duration": 0.09513,
     "end_time": "2020-11-29T14:20:29.647308",
     "exception": false,
     "start_time": "2020-11-29T14:20:29.552178",
     "status": "completed"
    },
    "tags": []
   },
   "source": [
    "#### Drop unnecessary columns and create dummy variables of categorical column"
   ]
  },
  {
   "cell_type": "code",
   "execution_count": 25,
   "metadata": {
    "execution": {
     "iopub.execute_input": "2020-11-29T14:20:29.847359Z",
     "iopub.status.busy": "2020-11-29T14:20:29.846532Z",
     "iopub.status.idle": "2020-11-29T14:20:29.873699Z",
     "shell.execute_reply": "2020-11-29T14:20:29.873021Z"
    },
    "papermill": {
     "duration": 0.130579,
     "end_time": "2020-11-29T14:20:29.873879",
     "exception": false,
     "start_time": "2020-11-29T14:20:29.743300",
     "status": "completed"
    },
    "tags": []
   },
   "outputs": [],
   "source": [
    "# categorical column\n",
    "cat_col=['is_weekend',\n",
    " 'site_id',\n",
    " 'ad_type_id',\n",
    " 'geo_id',\n",
    " 'device_category_id',\n",
    " 'advertiser_id',\n",
    " 'os_id',\n",
    " 'ad_unit_id']\n",
    "\n",
    "ldf_grouped_ad_data_to_be_modeled = pd.get_dummies(ldf_grouped_ad_data_to_be_modeled, columns=cat_col)\n",
    "ldf_grouped_ad_data_to_be_modeled = ldf_grouped_ad_data_to_be_modeled.drop(['total_impressions','measurable_impressions','count'], axis=1)"
   ]
  },
  {
   "cell_type": "markdown",
   "metadata": {
    "papermill": {
     "duration": 0.099219,
     "end_time": "2020-11-29T14:20:30.071152",
     "exception": false,
     "start_time": "2020-11-29T14:20:29.971933",
     "status": "completed"
    },
    "tags": []
   },
   "source": [
    "#### Create train-test split"
   ]
  },
  {
   "cell_type": "code",
   "execution_count": 26,
   "metadata": {
    "execution": {
     "iopub.execute_input": "2020-11-29T14:20:30.272442Z",
     "iopub.status.busy": "2020-11-29T14:20:30.271577Z",
     "iopub.status.idle": "2020-11-29T14:20:30.286648Z",
     "shell.execute_reply": "2020-11-29T14:20:30.285956Z"
    },
    "papermill": {
     "duration": 0.118548,
     "end_time": "2020-11-29T14:20:30.286775",
     "exception": false,
     "start_time": "2020-11-29T14:20:30.168227",
     "status": "completed"
    },
    "tags": []
   },
   "outputs": [],
   "source": [
    "from sklearn.model_selection import train_test_split\n",
    "\n",
    "X=ldf_grouped_ad_data_to_be_modeled.drop(['total_revenue'], axis=1)\n",
    "y=ldf_grouped_ad_data_to_be_modeled['total_revenue']\n",
    "\n",
    "X_train, X_test, y_train, y_test = train_test_split(X, y, test_size=.25, random_state=2)"
   ]
  },
  {
   "cell_type": "markdown",
   "metadata": {
    "papermill": {
     "duration": 0.094987,
     "end_time": "2020-11-29T14:20:30.479685",
     "exception": false,
     "start_time": "2020-11-29T14:20:30.384698",
     "status": "completed"
    },
    "tags": []
   },
   "source": [
    "#### Fit the model"
   ]
  },
  {
   "cell_type": "code",
   "execution_count": 27,
   "metadata": {
    "execution": {
     "iopub.execute_input": "2020-11-29T14:20:30.675721Z",
     "iopub.status.busy": "2020-11-29T14:20:30.674953Z",
     "iopub.status.idle": "2020-11-29T14:20:32.710234Z",
     "shell.execute_reply": "2020-11-29T14:20:32.709486Z"
    },
    "papermill": {
     "duration": 2.135669,
     "end_time": "2020-11-29T14:20:32.710388",
     "exception": false,
     "start_time": "2020-11-29T14:20:30.574719",
     "status": "completed"
    },
    "tags": []
   },
   "outputs": [
    {
     "data": {
      "text/plain": [
       "RandomForestRegressor(max_depth=2, random_state=0)"
      ]
     },
     "execution_count": 27,
     "metadata": {},
     "output_type": "execute_result"
    }
   ],
   "source": [
    "from sklearn.ensemble import RandomForestRegressor\n",
    "regr = RandomForestRegressor(max_depth=2, random_state=0)\n",
    "\n",
    "regr.fit(X_train, y_train)"
   ]
  },
  {
   "cell_type": "markdown",
   "metadata": {
    "papermill": {
     "duration": 0.097892,
     "end_time": "2020-11-29T14:20:32.906444",
     "exception": false,
     "start_time": "2020-11-29T14:20:32.808552",
     "status": "completed"
    },
    "tags": []
   },
   "source": [
    "#### Predict on testing data"
   ]
  },
  {
   "cell_type": "code",
   "execution_count": 28,
   "metadata": {
    "execution": {
     "iopub.execute_input": "2020-11-29T14:20:33.123470Z",
     "iopub.status.busy": "2020-11-29T14:20:33.122133Z",
     "iopub.status.idle": "2020-11-29T14:20:33.142031Z",
     "shell.execute_reply": "2020-11-29T14:20:33.141217Z"
    },
    "papermill": {
     "duration": 0.131877,
     "end_time": "2020-11-29T14:20:33.142174",
     "exception": false,
     "start_time": "2020-11-29T14:20:33.010297",
     "status": "completed"
    },
    "tags": []
   },
   "outputs": [],
   "source": [
    "y_pred = regr.predict(X_test)\n",
    "y_pred = np.where(y_pred>0, y_pred, 0)"
   ]
  },
  {
   "cell_type": "markdown",
   "metadata": {
    "papermill": {
     "duration": 0.100551,
     "end_time": "2020-11-29T14:20:33.344786",
     "exception": false,
     "start_time": "2020-11-29T14:20:33.244235",
     "status": "completed"
    },
    "tags": []
   },
   "source": [
    "#### Calculate rmse value"
   ]
  },
  {
   "cell_type": "code",
   "execution_count": 29,
   "metadata": {
    "execution": {
     "iopub.execute_input": "2020-11-29T14:20:33.548409Z",
     "iopub.status.busy": "2020-11-29T14:20:33.547621Z",
     "iopub.status.idle": "2020-11-29T14:20:33.552942Z",
     "shell.execute_reply": "2020-11-29T14:20:33.553521Z"
    },
    "papermill": {
     "duration": 0.110757,
     "end_time": "2020-11-29T14:20:33.553683",
     "exception": false,
     "start_time": "2020-11-29T14:20:33.442926",
     "status": "completed"
    },
    "tags": []
   },
   "outputs": [
    {
     "name": "stdout",
     "output_type": "stream",
     "text": [
      "The rmse of prediction is: 0.18057\n"
     ]
    }
   ],
   "source": [
    "from sklearn.metrics import mean_squared_log_error\n",
    "print('The rmse of prediction is:', round(mean_squared_log_error(y_pred, y_test) ** 0.5, 5))"
   ]
  },
  {
   "cell_type": "markdown",
   "metadata": {
    "papermill": {
     "duration": 0.097773,
     "end_time": "2020-11-29T14:20:33.748651",
     "exception": false,
     "start_time": "2020-11-29T14:20:33.650878",
     "status": "completed"
    },
    "tags": []
   },
   "source": [
    "#### Now, using CTR let's create two more columns with boosted & dropped value of CTR by 5%"
   ]
  },
  {
   "cell_type": "code",
   "execution_count": 30,
   "metadata": {
    "execution": {
     "iopub.execute_input": "2020-11-29T14:20:33.967211Z",
     "iopub.status.busy": "2020-11-29T14:20:33.966119Z",
     "iopub.status.idle": "2020-11-29T14:20:34.102099Z",
     "shell.execute_reply": "2020-11-29T14:20:34.100721Z"
    },
    "papermill": {
     "duration": 0.255703,
     "end_time": "2020-11-29T14:20:34.102239",
     "exception": false,
     "start_time": "2020-11-29T14:20:33.846536",
     "status": "completed"
    },
    "tags": []
   },
   "outputs": [],
   "source": [
    "X_test_with_added_range = X_test.copy()\n",
    "\n",
    "X_test_with_added_range['CTR_Raised_5%'] = X_test.apply(lambda x: x['CTR']+5 if x['CTR']<=95 else x['CTR'], axis=1)\n",
    "X_test_with_added_range['CTR_Dropped_5%'] = X_test.apply(lambda x: x['CTR']-5, axis=1)"
   ]
  },
  {
   "cell_type": "markdown",
   "metadata": {
    "papermill": {
     "duration": 0.100715,
     "end_time": "2020-11-29T14:20:34.313209",
     "exception": false,
     "start_time": "2020-11-29T14:20:34.212494",
     "status": "completed"
    },
    "tags": []
   },
   "source": [
    "#### Predict on three values on CTR - Original, Boosted(+5%) & Dropped(-5%)"
   ]
  },
  {
   "cell_type": "code",
   "execution_count": 31,
   "metadata": {
    "execution": {
     "iopub.execute_input": "2020-11-29T14:20:34.524189Z",
     "iopub.status.busy": "2020-11-29T14:20:34.523128Z",
     "iopub.status.idle": "2020-11-29T14:20:34.861146Z",
     "shell.execute_reply": "2020-11-29T14:20:34.860303Z"
    },
    "papermill": {
     "duration": 0.449156,
     "end_time": "2020-11-29T14:20:34.861276",
     "exception": false,
     "start_time": "2020-11-29T14:20:34.412120",
     "status": "completed"
    },
    "tags": []
   },
   "outputs": [],
   "source": [
    "X_test_with_added_range = X_test.copy()\n",
    "\n",
    "X_test_with_added_range['CTR'] = X_test.apply(lambda x: x['CTR'] + 5 if x['CTR']<=95 else x['CTR'], axis=1)\n",
    "llst_predicted_revenue_ctr_raised_5 = regr.predict(X_test_with_added_range)\n",
    "\n",
    "X_test_with_added_range['CTR'] = X_test.apply(lambda x: x['CTR'] - 5 if x['CTR']>=5 else x['CTR'], axis=1)\n",
    "llst_predicted_revenue_ctr_dropped_5 = regr.predict(X_test_with_added_range)\n",
    "\n",
    "X_test_with_added_range['CTR'] = X_test['CTR']\n",
    "X_test_with_added_range['CTR_Raised_5%'] = X_test.apply(lambda x: x['CTR']+5 if x['CTR']<=95 else x['CTR'], axis=1)\n",
    "X_test_with_added_range['CTR_Dropped_5%'] = X_test.apply(lambda x: x['CTR']-5, axis=1)\n",
    "X_test_with_added_range['Predicted_Revenue_CTR'] = regr.predict(X_test)\n",
    "X_test_with_added_range['Predicted_Revenue_CTR_Raised_5%'] = llst_predicted_revenue_ctr_raised_5\n",
    "X_test_with_added_range['Predicted_Revenue_CTR_Dropped_5%'] = llst_predicted_revenue_ctr_dropped_5"
   ]
  },
  {
   "cell_type": "code",
   "execution_count": 32,
   "metadata": {
    "execution": {
     "iopub.execute_input": "2020-11-29T14:20:35.083754Z",
     "iopub.status.busy": "2020-11-29T14:20:35.075248Z",
     "iopub.status.idle": "2020-11-29T14:20:35.090602Z",
     "shell.execute_reply": "2020-11-29T14:20:35.089860Z"
    },
    "papermill": {
     "duration": 0.131534,
     "end_time": "2020-11-29T14:20:35.090722",
     "exception": false,
     "start_time": "2020-11-29T14:20:34.959188",
     "status": "completed"
    },
    "tags": []
   },
   "outputs": [
    {
     "data": {
      "text/html": [
       "<div>\n",
       "<style scoped>\n",
       "    .dataframe tbody tr th:only-of-type {\n",
       "        vertical-align: middle;\n",
       "    }\n",
       "\n",
       "    .dataframe tbody tr th {\n",
       "        vertical-align: top;\n",
       "    }\n",
       "\n",
       "    .dataframe thead th {\n",
       "        text-align: right;\n",
       "    }\n",
       "</style>\n",
       "<table border=\"1\" class=\"dataframe\">\n",
       "  <thead>\n",
       "    <tr style=\"text-align: right;\">\n",
       "      <th></th>\n",
       "      <th>CTR</th>\n",
       "      <th>is_weekend_0</th>\n",
       "      <th>is_weekend_1</th>\n",
       "      <th>site_id_342</th>\n",
       "      <th>site_id_343</th>\n",
       "      <th>site_id_344</th>\n",
       "      <th>site_id_345</th>\n",
       "      <th>site_id_346</th>\n",
       "      <th>site_id_347</th>\n",
       "      <th>site_id_348</th>\n",
       "      <th>...</th>\n",
       "      <th>ad_unit_id_5178</th>\n",
       "      <th>ad_unit_id_5179</th>\n",
       "      <th>ad_unit_id_5180</th>\n",
       "      <th>ad_unit_id_5181</th>\n",
       "      <th>ad_unit_id_5443</th>\n",
       "      <th>CTR_Raised_5%</th>\n",
       "      <th>CTR_Dropped_5%</th>\n",
       "      <th>Predicted_Revenue_CTR</th>\n",
       "      <th>Predicted_Revenue_CTR_Raised_5%</th>\n",
       "      <th>Predicted_Revenue_CTR_Dropped_5%</th>\n",
       "    </tr>\n",
       "  </thead>\n",
       "  <tbody>\n",
       "    <tr>\n",
       "      <th>42142</th>\n",
       "      <td>100.0000</td>\n",
       "      <td>1</td>\n",
       "      <td>0</td>\n",
       "      <td>0</td>\n",
       "      <td>0</td>\n",
       "      <td>0</td>\n",
       "      <td>0</td>\n",
       "      <td>0</td>\n",
       "      <td>0</td>\n",
       "      <td>0</td>\n",
       "      <td>...</td>\n",
       "      <td>0</td>\n",
       "      <td>0</td>\n",
       "      <td>0</td>\n",
       "      <td>0</td>\n",
       "      <td>0</td>\n",
       "      <td>100.0000</td>\n",
       "      <td>95.0000</td>\n",
       "      <td>0.1848</td>\n",
       "      <td>0.1848</td>\n",
       "      <td>0.1858</td>\n",
       "    </tr>\n",
       "    <tr>\n",
       "      <th>9775</th>\n",
       "      <td>90.9091</td>\n",
       "      <td>1</td>\n",
       "      <td>0</td>\n",
       "      <td>0</td>\n",
       "      <td>1</td>\n",
       "      <td>0</td>\n",
       "      <td>0</td>\n",
       "      <td>0</td>\n",
       "      <td>0</td>\n",
       "      <td>0</td>\n",
       "      <td>...</td>\n",
       "      <td>0</td>\n",
       "      <td>0</td>\n",
       "      <td>0</td>\n",
       "      <td>0</td>\n",
       "      <td>0</td>\n",
       "      <td>95.9091</td>\n",
       "      <td>85.9091</td>\n",
       "      <td>0.5443</td>\n",
       "      <td>0.5443</td>\n",
       "      <td>0.5443</td>\n",
       "    </tr>\n",
       "    <tr>\n",
       "      <th>57422</th>\n",
       "      <td>100.0000</td>\n",
       "      <td>1</td>\n",
       "      <td>0</td>\n",
       "      <td>0</td>\n",
       "      <td>0</td>\n",
       "      <td>0</td>\n",
       "      <td>0</td>\n",
       "      <td>0</td>\n",
       "      <td>0</td>\n",
       "      <td>0</td>\n",
       "      <td>...</td>\n",
       "      <td>0</td>\n",
       "      <td>0</td>\n",
       "      <td>0</td>\n",
       "      <td>0</td>\n",
       "      <td>0</td>\n",
       "      <td>100.0000</td>\n",
       "      <td>95.0000</td>\n",
       "      <td>0.0855</td>\n",
       "      <td>0.0855</td>\n",
       "      <td>0.0865</td>\n",
       "    </tr>\n",
       "    <tr>\n",
       "      <th>10424</th>\n",
       "      <td>100.0000</td>\n",
       "      <td>1</td>\n",
       "      <td>0</td>\n",
       "      <td>0</td>\n",
       "      <td>0</td>\n",
       "      <td>1</td>\n",
       "      <td>0</td>\n",
       "      <td>0</td>\n",
       "      <td>0</td>\n",
       "      <td>0</td>\n",
       "      <td>...</td>\n",
       "      <td>0</td>\n",
       "      <td>0</td>\n",
       "      <td>0</td>\n",
       "      <td>0</td>\n",
       "      <td>0</td>\n",
       "      <td>100.0000</td>\n",
       "      <td>95.0000</td>\n",
       "      <td>0.0855</td>\n",
       "      <td>0.0855</td>\n",
       "      <td>0.0865</td>\n",
       "    </tr>\n",
       "    <tr>\n",
       "      <th>1827</th>\n",
       "      <td>96.1538</td>\n",
       "      <td>1</td>\n",
       "      <td>0</td>\n",
       "      <td>1</td>\n",
       "      <td>0</td>\n",
       "      <td>0</td>\n",
       "      <td>0</td>\n",
       "      <td>0</td>\n",
       "      <td>0</td>\n",
       "      <td>0</td>\n",
       "      <td>...</td>\n",
       "      <td>0</td>\n",
       "      <td>0</td>\n",
       "      <td>0</td>\n",
       "      <td>0</td>\n",
       "      <td>0</td>\n",
       "      <td>96.1538</td>\n",
       "      <td>91.1538</td>\n",
       "      <td>0.0865</td>\n",
       "      <td>0.0865</td>\n",
       "      <td>0.0865</td>\n",
       "    </tr>\n",
       "  </tbody>\n",
       "</table>\n",
       "<p>5 rows × 297 columns</p>\n",
       "</div>"
      ],
      "text/plain": [
       "                       CTR  is_weekend_0  is_weekend_1  site_id_342  \\\n",
       "42142             100.0000             1             0            0   \n",
       "9775               90.9091             1             0            0   \n",
       "57422             100.0000             1             0            0   \n",
       "10424             100.0000             1             0            0   \n",
       "1827               96.1538             1             0            1   \n",
       "\n",
       "       site_id_343  site_id_344  site_id_345  site_id_346  site_id_347  \\\n",
       "42142            0            0            0            0            0   \n",
       "9775             1            0            0            0            0   \n",
       "57422            0            0            0            0            0   \n",
       "10424            0            1            0            0            0   \n",
       "1827             0            0            0            0            0   \n",
       "\n",
       "       site_id_348  ...  ad_unit_id_5178  ad_unit_id_5179  ad_unit_id_5180  \\\n",
       "42142            0  ...                0                0                0   \n",
       "9775             0  ...                0                0                0   \n",
       "57422            0  ...                0                0                0   \n",
       "10424            0  ...                0                0                0   \n",
       "1827             0  ...                0                0                0   \n",
       "\n",
       "       ad_unit_id_5181  ad_unit_id_5443        CTR_Raised_5%  \\\n",
       "42142                0                0             100.0000   \n",
       "9775                 0                0              95.9091   \n",
       "57422                0                0             100.0000   \n",
       "10424                0                0             100.0000   \n",
       "1827                 0                0              96.1538   \n",
       "\n",
       "            CTR_Dropped_5%  Predicted_Revenue_CTR  \\\n",
       "42142              95.0000                 0.1848   \n",
       "9775               85.9091                 0.5443   \n",
       "57422              95.0000                 0.0855   \n",
       "10424              95.0000                 0.0855   \n",
       "1827               91.1538                 0.0865   \n",
       "\n",
       "       Predicted_Revenue_CTR_Raised_5%  Predicted_Revenue_CTR_Dropped_5%  \n",
       "42142                           0.1848                            0.1858  \n",
       "9775                            0.5443                            0.5443  \n",
       "57422                           0.0855                            0.0865  \n",
       "10424                           0.0855                            0.0865  \n",
       "1827                            0.0865                            0.0865  \n",
       "\n",
       "[5 rows x 297 columns]"
      ]
     },
     "execution_count": 32,
     "metadata": {},
     "output_type": "execute_result"
    }
   ],
   "source": [
    "X_test_with_added_range.tail()"
   ]
  },
  {
   "cell_type": "markdown",
   "metadata": {
    "papermill": {
     "duration": 0.099377,
     "end_time": "2020-11-29T14:20:35.290484",
     "exception": false,
     "start_time": "2020-11-29T14:20:35.191107",
     "status": "completed"
    },
    "tags": []
   },
   "source": [
    "### 3.4 Forecasting for July Month"
   ]
  },
  {
   "cell_type": "code",
   "execution_count": 33,
   "metadata": {
    "execution": {
     "iopub.execute_input": "2020-11-29T14:20:35.499787Z",
     "iopub.status.busy": "2020-11-29T14:20:35.498667Z",
     "iopub.status.idle": "2020-11-29T14:20:35.503914Z",
     "shell.execute_reply": "2020-11-29T14:20:35.502855Z"
    },
    "papermill": {
     "duration": 0.114635,
     "end_time": "2020-11-29T14:20:35.504090",
     "exception": false,
     "start_time": "2020-11-29T14:20:35.389455",
     "status": "completed"
    },
    "tags": []
   },
   "outputs": [
    {
     "name": "stdout",
     "output_type": "stream",
     "text": [
      "Actual Revenue in Current Month i.e. June (Test Data): 488.62939999999946\n",
      "\n",
      "Predicted Revenue for Next Month i.e. July (Test Data):\n",
      "\n",
      "Revenue on CTR: 547.5412002547148\n",
      "Revenue on Boosted CTR: 547.5351821825286\n",
      "Revenue on Dropped CTR: 549.4178357647615\n"
     ]
    }
   ],
   "source": [
    "print(\"Actual Revenue in Current Month i.e. June (Test Data): \"+str(sum(y_test)))\n",
    "\n",
    "print(\"\\nPredicted Revenue for Next Month i.e. July (Test Data):\")\n",
    "print(\"\\nRevenue on CTR: \"+str(sum(X_test_with_added_range['Predicted_Revenue_CTR'])))\n",
    "print(\"Revenue on Boosted CTR: \"+str(sum(X_test_with_added_range['Predicted_Revenue_CTR_Raised_5%'])))\n",
    "print(\"Revenue on Dropped CTR: \"+str(sum(X_test_with_added_range['Predicted_Revenue_CTR_Dropped_5%'])))"
   ]
  },
  {
   "cell_type": "markdown",
   "metadata": {
    "papermill": {
     "duration": 0.098317,
     "end_time": "2020-11-29T14:20:35.702463",
     "exception": false,
     "start_time": "2020-11-29T14:20:35.604146",
     "status": "completed"
    },
    "tags": []
   },
   "source": [
    "#### Calculating Percent Growth Rate"
   ]
  },
  {
   "attachments": {
    "image.png": {
     "image/png": "[encoded data removed]"
    }
   },
   "cell_type": "markdown",
   "metadata": {
    "papermill": {
     "duration": 0.099749,
     "end_time": "2020-11-29T14:20:35.901021",
     "exception": false,
     "start_time": "2020-11-29T14:20:35.801272",
     "status": "completed"
    },
    "tags": []
   },
   "source": [
    "The percent change from one period to another is calculated from the formula:\n",
    "\n",
    "![image.png](attachment:image.png)\n",
    "\n",
    "Where:\n",
    "\n",
    "- PR = Percent Rate\n",
    "- VPresent = Present or Future Value\n",
    "- VPast = Past or Present Value"
   ]
  },
  {
   "cell_type": "code",
   "execution_count": 34,
   "metadata": {
    "execution": {
     "iopub.execute_input": "2020-11-29T14:20:36.110674Z",
     "iopub.status.busy": "2020-11-29T14:20:36.109695Z",
     "iopub.status.idle": "2020-11-29T14:20:36.114423Z",
     "shell.execute_reply": "2020-11-29T14:20:36.113331Z"
    },
    "papermill": {
     "duration": 0.112373,
     "end_time": "2020-11-29T14:20:36.114564",
     "exception": false,
     "start_time": "2020-11-29T14:20:36.002191",
     "status": "completed"
    },
    "tags": []
   },
   "outputs": [
    {
     "name": "stdout",
     "output_type": "stream",
     "text": [
      "Growth Rate:  12.06\n"
     ]
    }
   ],
   "source": [
    "july_growth_rate = (sum(X_test_with_added_range['Predicted_Revenue_CTR_Raised_5%']) - sum(y_test))/sum(y_test)*100\n",
    "print(\"Growth Rate: \",\"%.2f\"%july_growth_rate)"
   ]
  },
  {
   "cell_type": "markdown",
   "metadata": {
    "papermill": {
     "duration": 0.099944,
     "end_time": "2020-11-29T14:20:36.316851",
     "exception": false,
     "start_time": "2020-11-29T14:20:36.216907",
     "status": "completed"
    },
    "tags": []
   },
   "source": [
    "### 3.5 Result Summary"
   ]
  },
  {
   "cell_type": "markdown",
   "metadata": {
    "papermill": {
     "duration": 0.101524,
     "end_time": "2020-11-29T14:20:36.520139",
     "exception": false,
     "start_time": "2020-11-29T14:20:36.418615",
     "status": "completed"
    },
    "tags": []
   },
   "source": [
    "#### What is the potential revenue range our publisher can make in July? \n",
    "\n",
    "As we can see in the above statements, we have predicted a **12.06%** growth in revenue for July month if we boost CTR by **5%.** Now, on that term, our revenue range for July month will be **488.62 to 547.53** dollars"
   ]
  },
  {
   "cell_type": "markdown",
   "metadata": {
    "papermill": {
     "duration": 0.099236,
     "end_time": "2020-11-29T14:20:36.719277",
     "exception": false,
     "start_time": "2020-11-29T14:20:36.620041",
     "status": "completed"
    },
    "tags": []
   },
   "source": [
    "<hr/>"
   ]
  },
  {
   "cell_type": "markdown",
   "metadata": {
    "papermill": {
     "duration": 0.099266,
     "end_time": "2020-11-29T14:20:36.918862",
     "exception": false,
     "start_time": "2020-11-29T14:20:36.819596",
     "status": "completed"
    },
    "tags": []
   },
   "source": [
    "# 4. Discussion on the reserve prices that he/she can set"
   ]
  },
  {
   "cell_type": "markdown",
   "metadata": {
    "papermill": {
     "duration": 0.103184,
     "end_time": "2020-11-29T14:20:37.122670",
     "exception": false,
     "start_time": "2020-11-29T14:20:37.019486",
     "status": "completed"
    },
    "tags": []
   },
   "source": [
    "A reserve price is a **minimum price** a publisher is willing to accept from an advertiser. In an auction, the publisher is not required to disclose the reserve price to a potential advertiser. If the reserve price is not met, the publisher is not required to sell the item, even to the highest bidder(advertiser). [Ref](https://www.investopedia.com/terms/r/reserve-price.asp#:~:text=A%20reserve%20price%20is%20a,even%20to%20the%20highest%20bidder.)\n",
    "\n",
    "In the following section, we will set some assumptions to determine the optimal reserve price.\n",
    "1. Background\n",
    "3. Hypothesis\n",
    "4. Determine Optimal Reserve Price\n",
    "5. Conclusion\n",
    "\n",
    "<hr/>"
   ]
  },
  {
   "cell_type": "markdown",
   "metadata": {
    "papermill": {
     "duration": 0.102206,
     "end_time": "2020-11-29T14:20:37.326900",
     "exception": false,
     "start_time": "2020-11-29T14:20:37.224694",
     "status": "completed"
    },
    "tags": []
   },
   "source": [
    "### 4.1 Background"
   ]
  },
  {
   "cell_type": "markdown",
   "metadata": {
    "papermill": {
     "duration": 0.102267,
     "end_time": "2020-11-29T14:20:37.531754",
     "exception": false,
     "start_time": "2020-11-29T14:20:37.429487",
     "status": "completed"
    },
    "tags": []
   },
   "source": [
    "Setting a reserve price involves finding the perfect line between ensuring the reserve is high enough to guarantee you a comfortable amount if reached and low enough that it will not be prohibitive to encouraging the bidding on the day. There is a common fear of setting the reserve price too low. [Ref](https://realestateview.com.au/advice/selling/the-ins-and-outs-of-setting-a-reserve-price/)\n",
    "\t\n",
    "What is a line item in advertising?\n",
    "\n",
    "Line items contain information about how an ad should show on your website or app, such as when and where specifically to show the ad. Line items also contain details that help an ad reach a specific demographic or audience.\n",
    "\n",
    "In our context, I believe 1 line items represent as follows: [See 2.2 (Conclusion)]\n",
    "\n",
    "| Feature | Description |\n",
    "| -: | :- |\n",
    "| site_id | denotes a different website\n",
    "| ad_type_id | can be display ads , video ads, text ads etc\n",
    "| geo_id | denotes a different country.\n",
    "| device_category_id | desktop , mobile, tablet\n",
    "| advertiser_id |  denotes a different bidder in the auction\n",
    "| os_id | operating system (android, ios etc)\n",
    "| ad_unit_id | one page can have more than one ad units\n",
    "| is_weekend | 1 if weekend otherwise; 0"
   ]
  },
  {
   "cell_type": "markdown",
   "metadata": {
    "papermill": {
     "duration": 0.100861,
     "end_time": "2020-11-29T14:20:37.733518",
     "exception": false,
     "start_time": "2020-11-29T14:20:37.632657",
     "status": "completed"
    },
    "tags": []
   },
   "source": [
    "### 4.2 Hypothesis"
   ]
  },
  {
   "cell_type": "markdown",
   "metadata": {
    "papermill": {
     "duration": 0.106987,
     "end_time": "2020-11-29T14:20:37.943072",
     "exception": false,
     "start_time": "2020-11-29T14:20:37.836085",
     "status": "completed"
    },
    "tags": []
   },
   "source": [
    "The assumptions that I have kept in mind to determine optimal reserve price is based on CPM. CPM shares a linear relationship with 'bids' or 'price'. It is calculated as revenue/impressions * 1000.\n",
    "In simple terms, CPM represents  'bids' or 'price'. In that way, we can determine, what is the price for winning a bid of a particular line item by looking at the CPM. "
   ]
  },
  {
   "cell_type": "markdown",
   "metadata": {
    "papermill": {
     "duration": 0.10033,
     "end_time": "2020-11-29T14:20:38.145447",
     "exception": false,
     "start_time": "2020-11-29T14:20:38.045117",
     "status": "completed"
    },
    "tags": []
   },
   "source": [
    "### 4.3 Determine Optimal Reserve Price"
   ]
  },
  {
   "cell_type": "markdown",
   "metadata": {
    "papermill": {
     "duration": 0.101164,
     "end_time": "2020-11-29T14:20:38.348772",
     "exception": false,
     "start_time": "2020-11-29T14:20:38.247608",
     "status": "completed"
    },
    "tags": []
   },
   "source": [
    "Step 1. Get total measusable_impressions & total_revenue per line item i.e. group by above features and get sum(measusable_impressions) & sum(total_revenue)\n",
    "\n",
    "Step 2. Now, we will apply the CPM formula on newly created columns and create a new column which is CPM."
   ]
  },
  {
   "cell_type": "code",
   "execution_count": 35,
   "metadata": {
    "execution": {
     "iopub.execute_input": "2020-11-29T14:20:38.564454Z",
     "iopub.status.busy": "2020-11-29T14:20:38.563374Z",
     "iopub.status.idle": "2020-11-29T14:20:38.694521Z",
     "shell.execute_reply": "2020-11-29T14:20:38.693796Z"
    },
    "papermill": {
     "duration": 0.241771,
     "end_time": "2020-11-29T14:20:38.694644",
     "exception": false,
     "start_time": "2020-11-29T14:20:38.452873",
     "status": "completed"
    },
    "tags": []
   },
   "outputs": [],
   "source": [
    "ldf_grouped_ad_data = ldf_ad_data.groupby([\"is_weekend\", \"site_id\",\"ad_type_id\",\n",
    "                     \"geo_id\",\"device_category_id\",\n",
    "                     \"advertiser_id\",\"os_id\",\"ad_unit_id\"])[\"measurable_impressions\",\"total_revenue\"].sum().reset_index()"
   ]
  },
  {
   "cell_type": "code",
   "execution_count": 36,
   "metadata": {
    "execution": {
     "iopub.execute_input": "2020-11-29T14:20:38.900516Z",
     "iopub.status.busy": "2020-11-29T14:20:38.899590Z",
     "iopub.status.idle": "2020-11-29T14:20:38.904187Z",
     "shell.execute_reply": "2020-11-29T14:20:38.903553Z"
    },
    "papermill": {
     "duration": 0.109798,
     "end_time": "2020-11-29T14:20:38.904317",
     "exception": false,
     "start_time": "2020-11-29T14:20:38.794519",
     "status": "completed"
    },
    "tags": []
   },
   "outputs": [
    {
     "data": {
      "text/plain": [
       "(91574, 10)"
      ]
     },
     "execution_count": 36,
     "metadata": {},
     "output_type": "execute_result"
    }
   ],
   "source": [
    "ldf_grouped_ad_data.shape"
   ]
  },
  {
   "cell_type": "code",
   "execution_count": 37,
   "metadata": {
    "execution": {
     "iopub.execute_input": "2020-11-29T14:20:39.116540Z",
     "iopub.status.busy": "2020-11-29T14:20:39.115719Z",
     "iopub.status.idle": "2020-11-29T14:20:39.185361Z",
     "shell.execute_reply": "2020-11-29T14:20:39.184735Z"
    },
    "papermill": {
     "duration": 0.180462,
     "end_time": "2020-11-29T14:20:39.185489",
     "exception": false,
     "start_time": "2020-11-29T14:20:39.005027",
     "status": "completed"
    },
    "tags": []
   },
   "outputs": [
    {
     "data": {
      "text/html": [
       "<div>\n",
       "<style scoped>\n",
       "    .dataframe tbody tr th:only-of-type {\n",
       "        vertical-align: middle;\n",
       "    }\n",
       "\n",
       "    .dataframe tbody tr th {\n",
       "        vertical-align: top;\n",
       "    }\n",
       "\n",
       "    .dataframe thead th {\n",
       "        text-align: right;\n",
       "    }\n",
       "</style>\n",
       "<table border=\"1\" class=\"dataframe\">\n",
       "  <thead>\n",
       "    <tr style=\"text-align: right;\">\n",
       "      <th></th>\n",
       "      <th>is_weekend</th>\n",
       "      <th>site_id</th>\n",
       "      <th>ad_type_id</th>\n",
       "      <th>geo_id</th>\n",
       "      <th>device_category_id</th>\n",
       "      <th>advertiser_id</th>\n",
       "      <th>os_id</th>\n",
       "      <th>ad_unit_id</th>\n",
       "      <th>measurable_impressions</th>\n",
       "      <th>total_revenue</th>\n",
       "    </tr>\n",
       "  </thead>\n",
       "  <tbody>\n",
       "    <tr>\n",
       "      <th>count</th>\n",
       "      <td>91,574.0000</td>\n",
       "      <td>91,574.0000</td>\n",
       "      <td>91,574.0000</td>\n",
       "      <td>91,574.0000</td>\n",
       "      <td>91,574.0000</td>\n",
       "      <td>91,574.0000</td>\n",
       "      <td>91,574.0000</td>\n",
       "      <td>91,574.0000</td>\n",
       "      <td>91,574.0000</td>\n",
       "      <td>91,574.0000</td>\n",
       "    </tr>\n",
       "    <tr>\n",
       "      <th>mean</th>\n",
       "      <td>0.3378</td>\n",
       "      <td>346.7380</td>\n",
       "      <td>10.2279</td>\n",
       "      <td>101.8062</td>\n",
       "      <td>1.9437</td>\n",
       "      <td>275.6568</td>\n",
       "      <td>57.1691</td>\n",
       "      <td>5,132.2748</td>\n",
       "      <td>20.5490</td>\n",
       "      <td>0.0264</td>\n",
       "    </tr>\n",
       "    <tr>\n",
       "      <th>std</th>\n",
       "      <td>0.4729</td>\n",
       "      <td>2.8976</td>\n",
       "      <td>1.2425</td>\n",
       "      <td>60.4044</td>\n",
       "      <td>0.8028</td>\n",
       "      <td>643.7672</td>\n",
       "      <td>2.2161</td>\n",
       "      <td>64.6270</td>\n",
       "      <td>140.6948</td>\n",
       "      <td>0.1904</td>\n",
       "    </tr>\n",
       "    <tr>\n",
       "      <th>min</th>\n",
       "      <td>0.0000</td>\n",
       "      <td>342.0000</td>\n",
       "      <td>10.0000</td>\n",
       "      <td>1.0000</td>\n",
       "      <td>1.0000</td>\n",
       "      <td>8.0000</td>\n",
       "      <td>15.0000</td>\n",
       "      <td>5,050.0000</td>\n",
       "      <td>0.0000</td>\n",
       "      <td>0.0000</td>\n",
       "    </tr>\n",
       "    <tr>\n",
       "      <th>25%</th>\n",
       "      <td>0.0000</td>\n",
       "      <td>345.0000</td>\n",
       "      <td>10.0000</td>\n",
       "      <td>46.0000</td>\n",
       "      <td>1.0000</td>\n",
       "      <td>79.0000</td>\n",
       "      <td>56.0000</td>\n",
       "      <td>5,097.0000</td>\n",
       "      <td>0.0000</td>\n",
       "      <td>0.0000</td>\n",
       "    </tr>\n",
       "    <tr>\n",
       "      <th>50%</th>\n",
       "      <td>0.0000</td>\n",
       "      <td>346.0000</td>\n",
       "      <td>10.0000</td>\n",
       "      <td>99.0000</td>\n",
       "      <td>2.0000</td>\n",
       "      <td>90.0000</td>\n",
       "      <td>57.0000</td>\n",
       "      <td>5,119.0000</td>\n",
       "      <td>2.0000</td>\n",
       "      <td>0.0000</td>\n",
       "    </tr>\n",
       "    <tr>\n",
       "      <th>75%</th>\n",
       "      <td>1.0000</td>\n",
       "      <td>349.0000</td>\n",
       "      <td>10.0000</td>\n",
       "      <td>160.0000</td>\n",
       "      <td>3.0000</td>\n",
       "      <td>139.0000</td>\n",
       "      <td>58.0000</td>\n",
       "      <td>5,168.0000</td>\n",
       "      <td>8.0000</td>\n",
       "      <td>0.0036</td>\n",
       "    </tr>\n",
       "    <tr>\n",
       "      <th>max</th>\n",
       "      <td>1.0000</td>\n",
       "      <td>351.0000</td>\n",
       "      <td>17.0000</td>\n",
       "      <td>308.0000</td>\n",
       "      <td>5.0000</td>\n",
       "      <td>2,646.0000</td>\n",
       "      <td>60.0000</td>\n",
       "      <td>5,443.0000</td>\n",
       "      <td>17,820.0000</td>\n",
       "      <td>23.0186</td>\n",
       "    </tr>\n",
       "  </tbody>\n",
       "</table>\n",
       "</div>"
      ],
      "text/plain": [
       "                is_weekend              site_id           ad_type_id  \\\n",
       "count          91,574.0000          91,574.0000          91,574.0000   \n",
       "mean                0.3378             346.7380              10.2279   \n",
       "std                 0.4729               2.8976               1.2425   \n",
       "min                 0.0000             342.0000              10.0000   \n",
       "25%                 0.0000             345.0000              10.0000   \n",
       "50%                 0.0000             346.0000              10.0000   \n",
       "75%                 1.0000             349.0000              10.0000   \n",
       "max                 1.0000             351.0000              17.0000   \n",
       "\n",
       "                    geo_id   device_category_id        advertiser_id  \\\n",
       "count          91,574.0000          91,574.0000          91,574.0000   \n",
       "mean              101.8062               1.9437             275.6568   \n",
       "std                60.4044               0.8028             643.7672   \n",
       "min                 1.0000               1.0000               8.0000   \n",
       "25%                46.0000               1.0000              79.0000   \n",
       "50%                99.0000               2.0000              90.0000   \n",
       "75%               160.0000               3.0000             139.0000   \n",
       "max               308.0000               5.0000           2,646.0000   \n",
       "\n",
       "                     os_id           ad_unit_id  measurable_impressions  \\\n",
       "count          91,574.0000          91,574.0000             91,574.0000   \n",
       "mean               57.1691           5,132.2748                 20.5490   \n",
       "std                 2.2161              64.6270                140.6948   \n",
       "min                15.0000           5,050.0000                  0.0000   \n",
       "25%                56.0000           5,097.0000                  0.0000   \n",
       "50%                57.0000           5,119.0000                  2.0000   \n",
       "75%                58.0000           5,168.0000                  8.0000   \n",
       "max                60.0000           5,443.0000             17,820.0000   \n",
       "\n",
       "             total_revenue  \n",
       "count          91,574.0000  \n",
       "mean                0.0264  \n",
       "std                 0.1904  \n",
       "min                 0.0000  \n",
       "25%                 0.0000  \n",
       "50%                 0.0000  \n",
       "75%                 0.0036  \n",
       "max                23.0186  "
      ]
     },
     "execution_count": 37,
     "metadata": {},
     "output_type": "execute_result"
    }
   ],
   "source": [
    "ldf_grouped_ad_data.describe()"
   ]
  },
  {
   "cell_type": "markdown",
   "metadata": {
    "papermill": {
     "duration": 0.102301,
     "end_time": "2020-11-29T14:20:39.389915",
     "exception": false,
     "start_time": "2020-11-29T14:20:39.287614",
     "status": "completed"
    },
    "tags": []
   },
   "source": [
    "#### Calculate CPM - Cost Per Mille"
   ]
  },
  {
   "cell_type": "code",
   "execution_count": 38,
   "metadata": {
    "execution": {
     "iopub.execute_input": "2020-11-29T14:20:39.601028Z",
     "iopub.status.busy": "2020-11-29T14:20:39.600061Z",
     "iopub.status.idle": "2020-11-29T14:20:39.603507Z",
     "shell.execute_reply": "2020-11-29T14:20:39.602893Z"
    },
    "papermill": {
     "duration": 0.110526,
     "end_time": "2020-11-29T14:20:39.603679",
     "exception": false,
     "start_time": "2020-11-29T14:20:39.493153",
     "status": "completed"
    },
    "tags": []
   },
   "outputs": [],
   "source": [
    "def calculate_cpm(n, d):\n",
    "    \"\"\"\n",
    "    CPM – cost per Mille. This is one of the most important ways to measure \n",
    "    performance. It is. Calculated as revenue/impressions * 1000. 'bids' and 'price' are \n",
    "    measured in terms of CPM\n",
    "    \"\"\"\n",
    "    return (n / d)*1000 if d else 0"
   ]
  },
  {
   "cell_type": "code",
   "execution_count": 39,
   "metadata": {
    "execution": {
     "iopub.execute_input": "2020-11-29T14:20:39.813586Z",
     "iopub.status.busy": "2020-11-29T14:20:39.812821Z",
     "iopub.status.idle": "2020-11-29T14:20:41.920699Z",
     "shell.execute_reply": "2020-11-29T14:20:41.920037Z"
    },
    "papermill": {
     "duration": 2.215568,
     "end_time": "2020-11-29T14:20:41.920845",
     "exception": false,
     "start_time": "2020-11-29T14:20:39.705277",
     "status": "completed"
    },
    "tags": []
   },
   "outputs": [],
   "source": [
    "ldf_grouped_ad_data['cpm/reserve_price'] = ldf_grouped_ad_data.apply(lambda x: calculate_cpm(((x['total_revenue'])),x['measurable_impressions']) , axis=1)"
   ]
  },
  {
   "cell_type": "code",
   "execution_count": 40,
   "metadata": {
    "execution": {
     "iopub.execute_input": "2020-11-29T14:20:42.143121Z",
     "iopub.status.busy": "2020-11-29T14:20:42.142275Z",
     "iopub.status.idle": "2020-11-29T14:20:42.215214Z",
     "shell.execute_reply": "2020-11-29T14:20:42.214559Z"
    },
    "papermill": {
     "duration": 0.182032,
     "end_time": "2020-11-29T14:20:42.215359",
     "exception": false,
     "start_time": "2020-11-29T14:20:42.033327",
     "status": "completed"
    },
    "tags": []
   },
   "outputs": [
    {
     "data": {
      "text/html": [
       "<div>\n",
       "<style scoped>\n",
       "    .dataframe tbody tr th:only-of-type {\n",
       "        vertical-align: middle;\n",
       "    }\n",
       "\n",
       "    .dataframe tbody tr th {\n",
       "        vertical-align: top;\n",
       "    }\n",
       "\n",
       "    .dataframe thead th {\n",
       "        text-align: right;\n",
       "    }\n",
       "</style>\n",
       "<table border=\"1\" class=\"dataframe\">\n",
       "  <thead>\n",
       "    <tr style=\"text-align: right;\">\n",
       "      <th></th>\n",
       "      <th>is_weekend</th>\n",
       "      <th>site_id</th>\n",
       "      <th>ad_type_id</th>\n",
       "      <th>geo_id</th>\n",
       "      <th>device_category_id</th>\n",
       "      <th>advertiser_id</th>\n",
       "      <th>os_id</th>\n",
       "      <th>ad_unit_id</th>\n",
       "      <th>measurable_impressions</th>\n",
       "      <th>total_revenue</th>\n",
       "      <th>cpm/reserve_price</th>\n",
       "    </tr>\n",
       "  </thead>\n",
       "  <tbody>\n",
       "    <tr>\n",
       "      <th>count</th>\n",
       "      <td>91,574.0000</td>\n",
       "      <td>91,574.0000</td>\n",
       "      <td>91,574.0000</td>\n",
       "      <td>91,574.0000</td>\n",
       "      <td>91,574.0000</td>\n",
       "      <td>91,574.0000</td>\n",
       "      <td>91,574.0000</td>\n",
       "      <td>91,574.0000</td>\n",
       "      <td>91,574.0000</td>\n",
       "      <td>91,574.0000</td>\n",
       "      <td>91,574.0000</td>\n",
       "    </tr>\n",
       "    <tr>\n",
       "      <th>mean</th>\n",
       "      <td>0.3378</td>\n",
       "      <td>346.7380</td>\n",
       "      <td>10.2279</td>\n",
       "      <td>101.8062</td>\n",
       "      <td>1.9437</td>\n",
       "      <td>275.6568</td>\n",
       "      <td>57.1691</td>\n",
       "      <td>5,132.2748</td>\n",
       "      <td>20.5490</td>\n",
       "      <td>0.0264</td>\n",
       "      <td>0.5687</td>\n",
       "    </tr>\n",
       "    <tr>\n",
       "      <th>std</th>\n",
       "      <td>0.4729</td>\n",
       "      <td>2.8976</td>\n",
       "      <td>1.2425</td>\n",
       "      <td>60.4044</td>\n",
       "      <td>0.8028</td>\n",
       "      <td>643.7672</td>\n",
       "      <td>2.2161</td>\n",
       "      <td>64.6270</td>\n",
       "      <td>140.6948</td>\n",
       "      <td>0.1904</td>\n",
       "      <td>1.4160</td>\n",
       "    </tr>\n",
       "    <tr>\n",
       "      <th>min</th>\n",
       "      <td>0.0000</td>\n",
       "      <td>342.0000</td>\n",
       "      <td>10.0000</td>\n",
       "      <td>1.0000</td>\n",
       "      <td>1.0000</td>\n",
       "      <td>8.0000</td>\n",
       "      <td>15.0000</td>\n",
       "      <td>5,050.0000</td>\n",
       "      <td>0.0000</td>\n",
       "      <td>0.0000</td>\n",
       "      <td>0.0000</td>\n",
       "    </tr>\n",
       "    <tr>\n",
       "      <th>25%</th>\n",
       "      <td>0.0000</td>\n",
       "      <td>345.0000</td>\n",
       "      <td>10.0000</td>\n",
       "      <td>46.0000</td>\n",
       "      <td>1.0000</td>\n",
       "      <td>79.0000</td>\n",
       "      <td>56.0000</td>\n",
       "      <td>5,097.0000</td>\n",
       "      <td>0.0000</td>\n",
       "      <td>0.0000</td>\n",
       "      <td>0.0000</td>\n",
       "    </tr>\n",
       "    <tr>\n",
       "      <th>50%</th>\n",
       "      <td>0.0000</td>\n",
       "      <td>346.0000</td>\n",
       "      <td>10.0000</td>\n",
       "      <td>99.0000</td>\n",
       "      <td>2.0000</td>\n",
       "      <td>90.0000</td>\n",
       "      <td>57.0000</td>\n",
       "      <td>5,119.0000</td>\n",
       "      <td>2.0000</td>\n",
       "      <td>0.0000</td>\n",
       "      <td>0.0000</td>\n",
       "    </tr>\n",
       "    <tr>\n",
       "      <th>75%</th>\n",
       "      <td>1.0000</td>\n",
       "      <td>349.0000</td>\n",
       "      <td>10.0000</td>\n",
       "      <td>160.0000</td>\n",
       "      <td>3.0000</td>\n",
       "      <td>139.0000</td>\n",
       "      <td>58.0000</td>\n",
       "      <td>5,168.0000</td>\n",
       "      <td>8.0000</td>\n",
       "      <td>0.0036</td>\n",
       "      <td>0.5000</td>\n",
       "    </tr>\n",
       "    <tr>\n",
       "      <th>max</th>\n",
       "      <td>1.0000</td>\n",
       "      <td>351.0000</td>\n",
       "      <td>17.0000</td>\n",
       "      <td>308.0000</td>\n",
       "      <td>5.0000</td>\n",
       "      <td>2,646.0000</td>\n",
       "      <td>60.0000</td>\n",
       "      <td>5,443.0000</td>\n",
       "      <td>17,820.0000</td>\n",
       "      <td>23.0186</td>\n",
       "      <td>52.2000</td>\n",
       "    </tr>\n",
       "  </tbody>\n",
       "</table>\n",
       "</div>"
      ],
      "text/plain": [
       "                is_weekend              site_id           ad_type_id  \\\n",
       "count          91,574.0000          91,574.0000          91,574.0000   \n",
       "mean                0.3378             346.7380              10.2279   \n",
       "std                 0.4729               2.8976               1.2425   \n",
       "min                 0.0000             342.0000              10.0000   \n",
       "25%                 0.0000             345.0000              10.0000   \n",
       "50%                 0.0000             346.0000              10.0000   \n",
       "75%                 1.0000             349.0000              10.0000   \n",
       "max                 1.0000             351.0000              17.0000   \n",
       "\n",
       "                    geo_id   device_category_id        advertiser_id  \\\n",
       "count          91,574.0000          91,574.0000          91,574.0000   \n",
       "mean              101.8062               1.9437             275.6568   \n",
       "std                60.4044               0.8028             643.7672   \n",
       "min                 1.0000               1.0000               8.0000   \n",
       "25%                46.0000               1.0000              79.0000   \n",
       "50%                99.0000               2.0000              90.0000   \n",
       "75%               160.0000               3.0000             139.0000   \n",
       "max               308.0000               5.0000           2,646.0000   \n",
       "\n",
       "                     os_id           ad_unit_id  measurable_impressions  \\\n",
       "count          91,574.0000          91,574.0000             91,574.0000   \n",
       "mean               57.1691           5,132.2748                 20.5490   \n",
       "std                 2.2161              64.6270                140.6948   \n",
       "min                15.0000           5,050.0000                  0.0000   \n",
       "25%                56.0000           5,097.0000                  0.0000   \n",
       "50%                57.0000           5,119.0000                  2.0000   \n",
       "75%                58.0000           5,168.0000                  8.0000   \n",
       "max                60.0000           5,443.0000             17,820.0000   \n",
       "\n",
       "             total_revenue    cpm/reserve_price  \n",
       "count          91,574.0000          91,574.0000  \n",
       "mean                0.0264               0.5687  \n",
       "std                 0.1904               1.4160  \n",
       "min                 0.0000               0.0000  \n",
       "25%                 0.0000               0.0000  \n",
       "50%                 0.0000               0.0000  \n",
       "75%                 0.0036               0.5000  \n",
       "max                23.0186              52.2000  "
      ]
     },
     "execution_count": 40,
     "metadata": {},
     "output_type": "execute_result"
    }
   ],
   "source": [
    "ldf_grouped_ad_data.describe()"
   ]
  },
  {
   "cell_type": "markdown",
   "metadata": {
    "papermill": {
     "duration": 0.101532,
     "end_time": "2020-11-29T14:20:42.421872",
     "exception": false,
     "start_time": "2020-11-29T14:20:42.320340",
     "status": "completed"
    },
    "tags": []
   },
   "source": [
    "### 4.4 Result Summary"
   ]
  },
  {
   "cell_type": "markdown",
   "metadata": {
    "papermill": {
     "duration": 0.104985,
     "end_time": "2020-11-29T14:20:42.649965",
     "exception": false,
     "start_time": "2020-11-29T14:20:42.544980",
     "status": "completed"
    },
    "tags": []
   },
   "source": [
    "As compared to the bid value in real life, here the derived reserve prices justify the minimum amount publisher should set to lose at lower bids, which encourage higher bidding and more publisher revenue.\n",
    "\n",
    "As we can see in the above table, most of the time, bidding prices are reasonably close to **30-50 cents**. This means the assumptions we have kept in mind could be correct."
   ]
  },
  {
   "cell_type": "markdown",
   "metadata": {},
   "source": [
    "<hr/>"
   ]
  },
  {
   "cell_type": "markdown",
   "metadata": {
    "papermill": {
     "duration": 0.104117,
     "end_time": "2020-11-29T14:20:42.857104",
     "exception": false,
     "start_time": "2020-11-29T14:20:42.752987",
     "status": "completed"
    },
    "tags": []
   },
   "source": [
    "# 5. Conclusion"
   ]
  },
  {
   "cell_type": "markdown",
   "metadata": {
    "papermill": {
     "duration": 0.106073,
     "end_time": "2020-11-29T14:20:43.067487",
     "exception": false,
     "start_time": "2020-11-29T14:20:42.961414",
     "status": "completed"
    },
    "tags": []
   },
   "source": [
    "Digital markets are playing catch-up compared to some other industries when it comes to AI. There is a lot to gain from an AI-first world. The proposed solution has the potential to provide benefits to publishers.\n",
    "\n",
    "Here are some points which may provide the concrete direction to the research we held:\n",
    "- line_item_type_id could provide a basis for selecting the combination of features. But as stated in the problem statement, we have ignored it.\n",
    "- Also, boosting or dropping in CTR value resulted in an almost 12% growth rate, makes me think what if we could calibrate the impressions itself and see the trade-off in growth rate. Calibration in terms of actual value could make a big difference in CTR and later on in revenue.\n",
    "\n",
    "Due to time constraints, I couldn't try all possible combinations but this study may, later on, provide a good basis for forecasting research.\n",
    "\n",
    "Here I would like to highlight some points to align my thoughts:\n",
    "- Quantum of data- There was only one month of data was given to forecasting the solution, which I believe is less to support the pieces of evidence I present.\n",
    "- Lack of Time- The solution is built in 2 straight days. Having said this, expertise in analytics & tools/libraries such as python, pandas, Jupyter Notebook paced the progress. Also, if we improve the base for the domain knowledge that would save some time.\n"
   ]
  },
  {
   "cell_type": "markdown",
   "metadata": {
    "papermill": {
     "duration": 0.106144,
     "end_time": "2020-11-29T14:20:43.280488",
     "exception": false,
     "start_time": "2020-11-29T14:20:43.174344",
     "status": "completed"
    },
    "tags": []
   },
   "source": [
    "<center><h1>End Here</h1></center>"
   ]
  }
 ],
 "metadata": {
  "kernelspec": {
   "display_name": "Python 3",
   "language": "python",
   "name": "python3"
  },
  "language_info": {
   "codemirror_mode": {
    "name": "ipython",
    "version": 3
   },
   "file_extension": ".py",
   "mimetype": "text/x-python",
   "name": "python",
   "nbconvert_exporter": "python",
   "pygments_lexer": "ipython3",
   "version": "3.7.6"
  },
  "papermill": {
   "duration": 108.3355,
   "end_time": "2020-11-29T14:20:44.453275",
   "environment_variables": {},
   "exception": null,
   "input_path": "__notebook__.ipynb",
   "output_path": "__notebook__.ipynb",
   "parameters": {},
   "start_time": "2020-11-29T14:18:56.117775",
   "version": "2.1.0"
  },
  "toc": {
   "base_numbering": 1,
   "nav_menu": {},
   "number_sections": true,
   "sideBar": true,
   "skip_h1_title": false,
   "title_cell": "Table of Contents",
   "title_sidebar": "Contents",
   "toc_cell": false,
   "toc_position": {},
   "toc_section_display": true,
   "toc_window_display": false
  }
 },
 "nbformat": 4,
 "nbformat_minor": 4
}
